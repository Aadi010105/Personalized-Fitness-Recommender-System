{
 "cells": [
  {
   "cell_type": "markdown",
   "metadata": {},
   "source": [
    "AADITIYA JAIN \n"
   ]
  },
  {
   "cell_type": "markdown",
   "metadata": {},
   "source": [
    "Reg No. - 229310427\n"
   ]
  },
  {
   "cell_type": "markdown",
   "metadata": {},
   "source": [
    "Recommender System Project"
   ]
  },
  {
   "cell_type": "markdown",
   "metadata": {},
   "source": [
    "<div style=\"background-color:#166534; color:#fde047; padding: 20px; border-radius: 10px;\">\n",
    "  <h1 style=\"font-size:26px; font-family:calibri;\"><b>📦 Personalized Workout Program Recommender</b></h1>\n",
    "  <p style=\"font-size:18px; font-family:calibri; line-height:1.6em;\">\n",
    "    Your AI Gym Buddy — 24/7, no spotter needed. A smart system that recommends fitness plans tailored to your goals, gear, and grind.\n",
    "  </p>\n",
    "</div>"
   ]
  },
  {
   "cell_type": "markdown",
   "metadata": {},
   "source": [
    "<div style=\"background-color:#166534; color:#fde047; padding: 20px; border-radius: 10px;\">\n",
    "  <h2 style=\"font-size:22px; font-family:calibri;\"><b>🧠 Introduction: The Why Behind the Workout</b></h2>\n",
    "  <p style=\"font-size:18px; font-family:calibri; line-height:1.6em;\">\n",
    "    We live in an era where workout plans are endless — HIIT, hypertrophy, calisthenics, bro-splits, you name it. But picking the right one for your body and goals? That’s the hard part.\n",
    "  </p>\n",
    "  <p style=\"font-size:18px; font-family:calibri;\">\n",
    "    This notebook builds an <b>AI-powered fitness recommender</b> that suggests customized workout programs based on your goals, gear, and level. It blends deep learning and metadata — so you spend less time browsing and more time lifting.\n",
    "  </p>\n",
    "</div>"
   ]
  },
  {
   "cell_type": "markdown",
   "metadata": {},
   "source": [
    "<div style=\"background-color:#166534; color:#fde047; padding: 20px; border-radius: 10px;\">\n",
    "  <h2 style=\"font-size:22px; font-family:calibri;\"><b>📌 Problem Statement</b></h2>\n",
    "  <p style=\"font-size:18px; font-family:calibri;\">\n",
    "    Can we recommend personalized workout programs based on user traits — even without explicit user IDs or ratings?\n",
    "  </p>\n",
    "  <ul style=\"font-size:18px; font-family:calibri; line-height:1.8em;\">\n",
    "    <li>💡 Use metadata (goal, level, equipment)</li>\n",
    "    <li>🧠 Encode text with SentenceTransformers</li>\n",
    "    <li>🔍 Cluster users by interests via KMeans</li>\n",
    "    <li>🎯 Retrieve personalized plans via embeddings</li>\n",
    "  </ul>\n",
    "</div>"
   ]
  },
  {
   "cell_type": "markdown",
   "metadata": {},
   "source": [
    "<div style=\"background-color:#166534; color:#fde047; padding: 20px; border-radius: 10px;\">\n",
    "  <h2 style=\"font-size:22px; font-family:calibri;\"><b>📁 About the Dataset</b></h2>\n",
    "  <ul style=\"font-size:18px; font-family:calibri;\">\n",
    "    <li>📦 2,598 workout programs with rich metadata</li>\n",
    "    <li>💪 605,033 linked exercises with details</li>\n",
    "    <li>🧼 Minimal missing values — clean and ready</li>\n",
    "    <li>🧩 Ideal for personalization, clustering, and recommendations</li>\n",
    "  </ul>\n",
    "</div>"
   ]
  },
  {
   "cell_type": "markdown",
   "metadata": {},
   "source": [
    "<div style=\"background-color:#166534; color:#fde047; padding: 20px; border-radius: 10px;\">\n",
    "  <h2 style=\"font-size:22px; font-family:calibri;\"><b>🛠️ Project Workflow</b></h2>\n",
    "  <ul style=\"font-size:18px; font-family:calibri; line-height:1.8em;\">\n",
    "    <li>📥 Load & clean data</li>\n",
    "    <li>🧼 Preprocess metadata + exercise text</li>\n",
    "    <li>🧠 Embed titles + descriptions with SentenceTransformers</li>\n",
    "    <li>🔍 Cluster with KMeans (user simulation)</li>\n",
    "    <li>🎯 Retrieve plans via cosine similarity</li>\n",
    "    <li>👤 Generate personalized recommendations per user segment</li>\n",
    "    <li>📊 Visualize clusters to explore fitness goals</li>\n",
    "  </ul>\n",
    "</div>"
   ]
  },
  {
   "cell_type": "markdown",
   "metadata": {},
   "source": [
    "<div style=\"background-color:#166534; color:#fde047; padding: 20px; border-radius: 10px;\">\n",
    "  <h2 style=\"font-size:22px; font-family:calibri;\"><b>👨‍💻 About the Author</b></h2>\n",
    "  <p style=\"font-size:18px; font-family:calibri; line-height:1.6em;\">\n",
    "    Hey! I'm <b>Denver Magtibay</b>, an <b>Agentic AI Engineer</b> and <b>Electronics Engineer</b> based in the Philippines. I design systems that think and adapt — even in fitness personalization.\n",
    "  </p>\n",
    "  <p style=\"font-size:18px; font-family:calibri;\">\n",
    "    My mission is to show how AI can be deployed in ways that are impactful, explainable, and easy to build on. Every notebook I write is a blueprint — not just for models, but for real-world problem-solving.\n",
    "  </p>\n",
    "  <p style=\"font-size:18px; font-family:calibri;\">\n",
    "    🔗 <b>Connect:</b>\n",
    "    <a href=\"https://www.linkedin.com/in/denvermagtibay/\" target=\"_blank\" style=\"color:#fef9c3;\">LinkedIn</a> |\n",
    "    <a href=\"https://www.kaggle.com/denvermagtibay\" target=\"_blank\" style=\"color:#fef9c3;\">Kaggle</a> |\n",
    "    <a href=\"mailto:engr.denver.magtibay@gmail.com\" style=\"color:#fef9c3;\">Email</a>\n",
    "  </p>\n",
    "</div>"
   ]
  },
  {
   "cell_type": "markdown",
   "metadata": {
    "_cell_guid": "b1076dfc-b9ad-4769-8c92-a6c4dae69d19",
    "_uuid": "8f2839f25d086af736a60e9eeb907d3b93b6e0e5"
   },
   "source": [
    "# 🧱 Environment Setup & Data Loading"
   ]
  },
  {
   "cell_type": "code",
   "execution_count": 1,
   "metadata": {
    "execution": {
     "iopub.execute_input": "2025-07-27T13:31:25.787248Z",
     "iopub.status.busy": "2025-07-27T13:31:25.787012Z",
     "iopub.status.idle": "2025-07-27T13:31:34.271805Z",
     "shell.execute_reply": "2025-07-27T13:31:34.271149Z",
     "shell.execute_reply.started": "2025-07-27T13:31:25.787226Z"
    },
    "trusted": true
   },
   "outputs": [
    {
     "name": "stdout",
     "output_type": "stream",
     "text": [
      "Exercises shape: (605033, 16)\n",
      "Programs shape: (2598, 10)\n",
      "['title', 'description', 'level', 'goal', 'equipment', 'program_length', 'time_per_workout', 'week', 'day', 'number_of_exercises', 'exercise_name', 'sets', 'reps', 'intensity', 'created', 'last_edit']\n",
      "['title', 'description', 'level', 'goal', 'equipment', 'program_length', 'time_per_workout', 'total_exercises', 'created', 'last_edit']\n"
     ]
    }
   ],
   "source": [
    "# Step 1: setup & load data\n",
    "import pandas as pd\n",
    "import numpy as np\n",
    "\n",
    "# file paths\n",
    "EXERCISES_PATH = '/kaggle/input/600k-fitness-exercise-and-workout-program-dataset/programs_detailed_boostcamp_kaggle.csv'\n",
    "SUMMARY_PATH   = '/kaggle/input/600k-fitness-exercise-and-workout-program-dataset/program_summary.csv'\n",
    "\n",
    "# load datasets\n",
    "ex_df = pd.read_csv(EXERCISES_PATH)\n",
    "prog_df = pd.read_csv(SUMMARY_PATH)\n",
    "\n",
    "print('Exercises shape:', ex_df.shape)\n",
    "print('Programs shape:', prog_df.shape)\n",
    "\n",
    "# inspect columns\n",
    "print(ex_df.columns.tolist())\n",
    "print(prog_df.columns.tolist())"
   ]
  },
  {
   "cell_type": "markdown",
   "metadata": {},
   "source": [
    "# 📊 Exploratory Data Analysis (EDA) & Preprocessing\n",
    "We’ll explore distributions, missing values, and prepare key fields for modeling.\n",
    "\n",
    "We’re building a personalized program recommender using:\n",
    "\n",
    "1. Metadata features: goal, level, equipment, program_length, etc.\n",
    "\n",
    "2. Text fields: title, description, exercise_name\n",
    "\n",
    "3. Personalization layer: modeled via user history, i.e., users who interacted with similar programs"
   ]
  },
  {
   "cell_type": "markdown",
   "metadata": {},
   "source": [
    "# 🧼 Cleaning Metadata and Text"
   ]
  },
  {
   "cell_type": "code",
   "execution_count": 2,
   "metadata": {
    "execution": {
     "iopub.execute_input": "2025-07-27T13:31:34.273609Z",
     "iopub.status.busy": "2025-07-27T13:31:34.273401Z",
     "iopub.status.idle": "2025-07-27T13:31:36.765960Z",
     "shell.execute_reply": "2025-07-27T13:31:36.765180Z",
     "shell.execute_reply.started": "2025-07-27T13:31:34.273593Z"
    },
    "trusted": true
   },
   "outputs": [
    {
     "name": "stdout",
     "output_type": "stream",
     "text": [
      "                                             goal  \\\n",
      "0    ['muscle & sculpting', 'bodyweight fitness']   \n",
      "1                                ['bodybuilding']   \n",
      "2  ['athletics', 'powerlifting', 'powerbuilding']   \n",
      "\n",
      "                                    level equipment  program_length  \\\n",
      "0                        ['intermediate']  full gym        0.647059   \n",
      "1            ['advanced', 'intermediate']  full gym        0.411765   \n",
      "2  ['beginner', 'novice', 'intermediate']  full gym        0.294118   \n",
      "\n",
      "   time_per_workout                                         text_input  \n",
      "0          0.470588  mass monster high intensity 4 day upper lower ...  \n",
      "1          0.294118  not my programshj jotaro build strength and si...  \n",
      "2          0.470588  1 powerlift per day powerbuilding 5 day bro sp...  \n"
     ]
    }
   ],
   "source": [
    "import pandas as pd\n",
    "import numpy as np\n",
    "import re\n",
    "from sklearn.preprocessing import LabelEncoder, MinMaxScaler\n",
    "\n",
    "# --- Clean metadata: fill and normalize ---\n",
    "for col in ['goal', 'level', 'equipment']:\n",
    "    prog_df[col] = prog_df[col].fillna('unknown').str.lower().str.strip()\n",
    "\n",
    "# Normalize numeric fields\n",
    "scaler = MinMaxScaler()\n",
    "prog_df[['program_length', 'time_per_workout']] = scaler.fit_transform(prog_df[['program_length', 'time_per_workout']])\n",
    "\n",
    "# --- Clean text: title + description ---\n",
    "def clean_text(text):\n",
    "    if pd.isna(text): return ''\n",
    "    text = text.lower()\n",
    "    text = re.sub(r'<.*?>', '', text)           # remove HTML\n",
    "    text = re.sub(r'[^a-zA-Z0-9\\s]', '', text)  # remove punctuation\n",
    "    return text.strip()\n",
    "\n",
    "prog_df['clean_title'] = prog_df['title'].apply(clean_text)\n",
    "prog_df['clean_desc'] = prog_df['description'].apply(clean_text)\n",
    "\n",
    "# --- Get most common exercises per program ---\n",
    "top_exercises = (ex_df.groupby('title')['exercise_name']\n",
    "                 .apply(lambda x: ' '.join(x.dropna().astype(str).str.lower().str.replace(r'[^a-zA-Z0-9\\s]', '', regex=True).unique()[:5])))\n",
    "\n",
    "prog_df = prog_df.merge(top_exercises.rename('common_exercises'), on='title', how='left')\n",
    "prog_df['common_exercises'] = prog_df['common_exercises'].fillna('')\n",
    "\n",
    "# --- Combine all text for embeddings ---\n",
    "prog_df['text_input'] = (\n",
    "    prog_df['clean_title'] + ' ' +\n",
    "    prog_df['clean_desc'] + ' ' +\n",
    "    prog_df['common_exercises']\n",
    ")\n",
    "\n",
    "print(prog_df[['goal', 'level', 'equipment', 'program_length', 'time_per_workout', 'text_input']].head(3))"
   ]
  },
  {
   "cell_type": "markdown",
   "metadata": {},
   "source": [
    "# 🧠 Feature Engineering (Text Embeddings + Metadata Encoding)\n",
    "* Encode goal, level, and equipment using LabelEncoder\n",
    "\n",
    "* Generate dense text embeddings using a SentenceTransformer model (e.g. all-MiniLM-L6-v2)\n",
    "\n",
    "* Concatenate metadata and text embeddings into a final feature vector per program"
   ]
  },
  {
   "cell_type": "code",
   "execution_count": 3,
   "metadata": {
    "_kg_hide-input": false,
    "_kg_hide-output": true,
    "collapsed": true,
    "execution": {
     "iopub.execute_input": "2025-07-27T13:31:36.767307Z",
     "iopub.status.busy": "2025-07-27T13:31:36.766893Z",
     "iopub.status.idle": "2025-07-27T13:32:17.950999Z",
     "shell.execute_reply": "2025-07-27T13:32:17.950332Z",
     "shell.execute_reply.started": "2025-07-27T13:31:36.767279Z"
    },
    "jupyter": {
     "outputs_hidden": true
    },
    "trusted": true
   },
   "outputs": [
    {
     "name": "stderr",
     "output_type": "stream",
     "text": [
      "2025-07-27 13:31:51.187736: E external/local_xla/xla/stream_executor/cuda/cuda_fft.cc:477] Unable to register cuFFT factory: Attempting to register factory for plugin cuFFT when one has already been registered\n",
      "WARNING: All log messages before absl::InitializeLog() is called are written to STDERR\n",
      "E0000 00:00:1753623111.402866      36 cuda_dnn.cc:8310] Unable to register cuDNN factory: Attempting to register factory for plugin cuDNN when one has already been registered\n",
      "E0000 00:00:1753623111.468069      36 cuda_blas.cc:1418] Unable to register cuBLAS factory: Attempting to register factory for plugin cuBLAS when one has already been registered\n"
     ]
    },
    {
     "data": {
      "application/vnd.jupyter.widget-view+json": {
       "model_id": "6851d2a6916d4f2ebb0b154152b38359",
       "version_major": 2,
       "version_minor": 0
      },
      "text/plain": [
       "modules.json:   0%|          | 0.00/349 [00:00<?, ?B/s]"
      ]
     },
     "metadata": {},
     "output_type": "display_data"
    },
    {
     "data": {
      "application/vnd.jupyter.widget-view+json": {
       "model_id": "e5394bdffa8e475c9cd0c7eddb8d81ac",
       "version_major": 2,
       "version_minor": 0
      },
      "text/plain": [
       "config_sentence_transformers.json:   0%|          | 0.00/116 [00:00<?, ?B/s]"
      ]
     },
     "metadata": {},
     "output_type": "display_data"
    },
    {
     "data": {
      "application/vnd.jupyter.widget-view+json": {
       "model_id": "1a9a044a46784a2d975baeee2ba65427",
       "version_major": 2,
       "version_minor": 0
      },
      "text/plain": [
       "README.md: 0.00B [00:00, ?B/s]"
      ]
     },
     "metadata": {},
     "output_type": "display_data"
    },
    {
     "data": {
      "application/vnd.jupyter.widget-view+json": {
       "model_id": "479752510e1b4660b269b66f26452e42",
       "version_major": 2,
       "version_minor": 0
      },
      "text/plain": [
       "sentence_bert_config.json:   0%|          | 0.00/53.0 [00:00<?, ?B/s]"
      ]
     },
     "metadata": {},
     "output_type": "display_data"
    },
    {
     "data": {
      "application/vnd.jupyter.widget-view+json": {
       "model_id": "64fb5839bded4e918663ef517ea25146",
       "version_major": 2,
       "version_minor": 0
      },
      "text/plain": [
       "config.json:   0%|          | 0.00/612 [00:00<?, ?B/s]"
      ]
     },
     "metadata": {},
     "output_type": "display_data"
    },
    {
     "data": {
      "application/vnd.jupyter.widget-view+json": {
       "model_id": "0889562fa67a4452a7fcd9e3fd408e5b",
       "version_major": 2,
       "version_minor": 0
      },
      "text/plain": [
       "model.safetensors:   0%|          | 0.00/90.9M [00:00<?, ?B/s]"
      ]
     },
     "metadata": {},
     "output_type": "display_data"
    },
    {
     "data": {
      "application/vnd.jupyter.widget-view+json": {
       "model_id": "53abe255f9744df993b63857dcd2086d",
       "version_major": 2,
       "version_minor": 0
      },
      "text/plain": [
       "tokenizer_config.json:   0%|          | 0.00/350 [00:00<?, ?B/s]"
      ]
     },
     "metadata": {},
     "output_type": "display_data"
    },
    {
     "data": {
      "application/vnd.jupyter.widget-view+json": {
       "model_id": "c5bd8e8021e74276acdb3aa723eafd78",
       "version_major": 2,
       "version_minor": 0
      },
      "text/plain": [
       "vocab.txt: 0.00B [00:00, ?B/s]"
      ]
     },
     "metadata": {},
     "output_type": "display_data"
    },
    {
     "data": {
      "application/vnd.jupyter.widget-view+json": {
       "model_id": "45e02f501b7d48b1b4e982c675bb9cde",
       "version_major": 2,
       "version_minor": 0
      },
      "text/plain": [
       "tokenizer.json: 0.00B [00:00, ?B/s]"
      ]
     },
     "metadata": {},
     "output_type": "display_data"
    },
    {
     "data": {
      "application/vnd.jupyter.widget-view+json": {
       "model_id": "ca757a484ccc4ac796a3e6666214e3e9",
       "version_major": 2,
       "version_minor": 0
      },
      "text/plain": [
       "special_tokens_map.json:   0%|          | 0.00/112 [00:00<?, ?B/s]"
      ]
     },
     "metadata": {},
     "output_type": "display_data"
    },
    {
     "data": {
      "application/vnd.jupyter.widget-view+json": {
       "model_id": "a82b3617ac2f4cad9cc18c766355d03a",
       "version_major": 2,
       "version_minor": 0
      },
      "text/plain": [
       "config.json:   0%|          | 0.00/190 [00:00<?, ?B/s]"
      ]
     },
     "metadata": {},
     "output_type": "display_data"
    },
    {
     "data": {
      "application/vnd.jupyter.widget-view+json": {
       "model_id": "2ad83932dd3b4044b5797dea2b6cbc8c",
       "version_major": 2,
       "version_minor": 0
      },
      "text/plain": [
       "Batches:   0%|          | 0/4 [00:00<?, ?it/s]"
      ]
     },
     "metadata": {},
     "output_type": "display_data"
    },
    {
     "data": {
      "application/vnd.jupyter.widget-view+json": {
       "model_id": "2344c182c26342bba5983701cfb87bce",
       "version_major": 2,
       "version_minor": 0
      },
      "text/plain": [
       "Batches:   0%|          | 0/4 [00:00<?, ?it/s]"
      ]
     },
     "metadata": {},
     "output_type": "display_data"
    },
    {
     "data": {
      "application/vnd.jupyter.widget-view+json": {
       "model_id": "81a5069ad2d54986867c6e20b9c784f2",
       "version_major": 2,
       "version_minor": 0
      },
      "text/plain": [
       "Batches:   0%|          | 0/4 [00:00<?, ?it/s]"
      ]
     },
     "metadata": {},
     "output_type": "display_data"
    },
    {
     "data": {
      "application/vnd.jupyter.widget-view+json": {
       "model_id": "53c17cf308bc45e198b8400f4004cdfc",
       "version_major": 2,
       "version_minor": 0
      },
      "text/plain": [
       "Batches:   0%|          | 0/4 [00:00<?, ?it/s]"
      ]
     },
     "metadata": {},
     "output_type": "display_data"
    },
    {
     "data": {
      "application/vnd.jupyter.widget-view+json": {
       "model_id": "5d7938fe2fa94b6fa1bdd52d9fef028e",
       "version_major": 2,
       "version_minor": 0
      },
      "text/plain": [
       "Batches:   0%|          | 0/4 [00:00<?, ?it/s]"
      ]
     },
     "metadata": {},
     "output_type": "display_data"
    },
    {
     "data": {
      "application/vnd.jupyter.widget-view+json": {
       "model_id": "53e6b5217fd74588868721d053007354",
       "version_major": 2,
       "version_minor": 0
      },
      "text/plain": [
       "Batches:   0%|          | 0/4 [00:00<?, ?it/s]"
      ]
     },
     "metadata": {},
     "output_type": "display_data"
    },
    {
     "data": {
      "application/vnd.jupyter.widget-view+json": {
       "model_id": "e4ab35845fe9417bbf46a29bec18f3f7",
       "version_major": 2,
       "version_minor": 0
      },
      "text/plain": [
       "Batches:   0%|          | 0/4 [00:00<?, ?it/s]"
      ]
     },
     "metadata": {},
     "output_type": "display_data"
    },
    {
     "data": {
      "application/vnd.jupyter.widget-view+json": {
       "model_id": "622973227d15412e8df679ee9848d747",
       "version_major": 2,
       "version_minor": 0
      },
      "text/plain": [
       "Batches:   0%|          | 0/4 [00:00<?, ?it/s]"
      ]
     },
     "metadata": {},
     "output_type": "display_data"
    },
    {
     "data": {
      "application/vnd.jupyter.widget-view+json": {
       "model_id": "2be95cd27b37425398a88f8f8a7ff76d",
       "version_major": 2,
       "version_minor": 0
      },
      "text/plain": [
       "Batches:   0%|          | 0/4 [00:00<?, ?it/s]"
      ]
     },
     "metadata": {},
     "output_type": "display_data"
    },
    {
     "data": {
      "application/vnd.jupyter.widget-view+json": {
       "model_id": "c554e0bf97974192858b8be3ee4e0d3e",
       "version_major": 2,
       "version_minor": 0
      },
      "text/plain": [
       "Batches:   0%|          | 0/4 [00:00<?, ?it/s]"
      ]
     },
     "metadata": {},
     "output_type": "display_data"
    },
    {
     "data": {
      "application/vnd.jupyter.widget-view+json": {
       "model_id": "a177aa94f62e4e11a7a716d02e75c742",
       "version_major": 2,
       "version_minor": 0
      },
      "text/plain": [
       "Batches:   0%|          | 0/4 [00:00<?, ?it/s]"
      ]
     },
     "metadata": {},
     "output_type": "display_data"
    },
    {
     "data": {
      "application/vnd.jupyter.widget-view+json": {
       "model_id": "f83000b0750b4d5089e45830d282618f",
       "version_major": 2,
       "version_minor": 0
      },
      "text/plain": [
       "Batches:   0%|          | 0/4 [00:00<?, ?it/s]"
      ]
     },
     "metadata": {},
     "output_type": "display_data"
    },
    {
     "data": {
      "application/vnd.jupyter.widget-view+json": {
       "model_id": "934da38d7009429c9cf2a0de8e4f63fd",
       "version_major": 2,
       "version_minor": 0
      },
      "text/plain": [
       "Batches:   0%|          | 0/4 [00:00<?, ?it/s]"
      ]
     },
     "metadata": {},
     "output_type": "display_data"
    },
    {
     "data": {
      "application/vnd.jupyter.widget-view+json": {
       "model_id": "6bcfc15aee3a4366944f24120ed30d56",
       "version_major": 2,
       "version_minor": 0
      },
      "text/plain": [
       "Batches:   0%|          | 0/4 [00:00<?, ?it/s]"
      ]
     },
     "metadata": {},
     "output_type": "display_data"
    },
    {
     "data": {
      "application/vnd.jupyter.widget-view+json": {
       "model_id": "c79381ade0204b8ab8ae2a88517417c3",
       "version_major": 2,
       "version_minor": 0
      },
      "text/plain": [
       "Batches:   0%|          | 0/4 [00:00<?, ?it/s]"
      ]
     },
     "metadata": {},
     "output_type": "display_data"
    },
    {
     "data": {
      "application/vnd.jupyter.widget-view+json": {
       "model_id": "80f0b84684204ff6a22df0665005ff11",
       "version_major": 2,
       "version_minor": 0
      },
      "text/plain": [
       "Batches:   0%|          | 0/4 [00:00<?, ?it/s]"
      ]
     },
     "metadata": {},
     "output_type": "display_data"
    },
    {
     "data": {
      "application/vnd.jupyter.widget-view+json": {
       "model_id": "66126419d4da47919599d455d407feb1",
       "version_major": 2,
       "version_minor": 0
      },
      "text/plain": [
       "Batches:   0%|          | 0/4 [00:00<?, ?it/s]"
      ]
     },
     "metadata": {},
     "output_type": "display_data"
    },
    {
     "data": {
      "application/vnd.jupyter.widget-view+json": {
       "model_id": "6aea3ecd659745b7882c9fe5dddd4818",
       "version_major": 2,
       "version_minor": 0
      },
      "text/plain": [
       "Batches:   0%|          | 0/4 [00:00<?, ?it/s]"
      ]
     },
     "metadata": {},
     "output_type": "display_data"
    },
    {
     "data": {
      "application/vnd.jupyter.widget-view+json": {
       "model_id": "0acdd1918bb84cc9b0e126c1d1c038c5",
       "version_major": 2,
       "version_minor": 0
      },
      "text/plain": [
       "Batches:   0%|          | 0/4 [00:00<?, ?it/s]"
      ]
     },
     "metadata": {},
     "output_type": "display_data"
    },
    {
     "data": {
      "application/vnd.jupyter.widget-view+json": {
       "model_id": "75261935f35146bf8cbde59294d1b716",
       "version_major": 2,
       "version_minor": 0
      },
      "text/plain": [
       "Batches:   0%|          | 0/4 [00:00<?, ?it/s]"
      ]
     },
     "metadata": {},
     "output_type": "display_data"
    },
    {
     "data": {
      "application/vnd.jupyter.widget-view+json": {
       "model_id": "86982924d0da4e3d9a1f19d9df21ad7b",
       "version_major": 2,
       "version_minor": 0
      },
      "text/plain": [
       "Batches:   0%|          | 0/2 [00:00<?, ?it/s]"
      ]
     },
     "metadata": {},
     "output_type": "display_data"
    },
    {
     "name": "stderr",
     "output_type": "stream",
     "text": [
      "/tmp/ipykernel_36/2762447381.py:28: PerformanceWarning: DataFrame is highly fragmented.  This is usually the result of calling `frame.insert` many times, which has poor performance.  Consider joining all columns at once using pd.concat(axis=1) instead. To get a de-fragmented frame, use `newframe = frame.copy()`\n",
      "  prog_df[f'emb_{i}'] = text_embeddings[:, i]\n",
      "/tmp/ipykernel_36/2762447381.py:28: PerformanceWarning: DataFrame is highly fragmented.  This is usually the result of calling `frame.insert` many times, which has poor performance.  Consider joining all columns at once using pd.concat(axis=1) instead. To get a de-fragmented frame, use `newframe = frame.copy()`\n",
      "  prog_df[f'emb_{i}'] = text_embeddings[:, i]\n",
      "/tmp/ipykernel_36/2762447381.py:28: PerformanceWarning: DataFrame is highly fragmented.  This is usually the result of calling `frame.insert` many times, which has poor performance.  Consider joining all columns at once using pd.concat(axis=1) instead. To get a de-fragmented frame, use `newframe = frame.copy()`\n",
      "  prog_df[f'emb_{i}'] = text_embeddings[:, i]\n",
      "/tmp/ipykernel_36/2762447381.py:28: PerformanceWarning: DataFrame is highly fragmented.  This is usually the result of calling `frame.insert` many times, which has poor performance.  Consider joining all columns at once using pd.concat(axis=1) instead. To get a de-fragmented frame, use `newframe = frame.copy()`\n",
      "  prog_df[f'emb_{i}'] = text_embeddings[:, i]\n",
      "/tmp/ipykernel_36/2762447381.py:28: PerformanceWarning: DataFrame is highly fragmented.  This is usually the result of calling `frame.insert` many times, which has poor performance.  Consider joining all columns at once using pd.concat(axis=1) instead. To get a de-fragmented frame, use `newframe = frame.copy()`\n",
      "  prog_df[f'emb_{i}'] = text_embeddings[:, i]\n",
      "/tmp/ipykernel_36/2762447381.py:28: PerformanceWarning: DataFrame is highly fragmented.  This is usually the result of calling `frame.insert` many times, which has poor performance.  Consider joining all columns at once using pd.concat(axis=1) instead. To get a de-fragmented frame, use `newframe = frame.copy()`\n",
      "  prog_df[f'emb_{i}'] = text_embeddings[:, i]\n",
      "/tmp/ipykernel_36/2762447381.py:28: PerformanceWarning: DataFrame is highly fragmented.  This is usually the result of calling `frame.insert` many times, which has poor performance.  Consider joining all columns at once using pd.concat(axis=1) instead. To get a de-fragmented frame, use `newframe = frame.copy()`\n",
      "  prog_df[f'emb_{i}'] = text_embeddings[:, i]\n",
      "/tmp/ipykernel_36/2762447381.py:28: PerformanceWarning: DataFrame is highly fragmented.  This is usually the result of calling `frame.insert` many times, which has poor performance.  Consider joining all columns at once using pd.concat(axis=1) instead. To get a de-fragmented frame, use `newframe = frame.copy()`\n",
      "  prog_df[f'emb_{i}'] = text_embeddings[:, i]\n",
      "/tmp/ipykernel_36/2762447381.py:28: PerformanceWarning: DataFrame is highly fragmented.  This is usually the result of calling `frame.insert` many times, which has poor performance.  Consider joining all columns at once using pd.concat(axis=1) instead. To get a de-fragmented frame, use `newframe = frame.copy()`\n",
      "  prog_df[f'emb_{i}'] = text_embeddings[:, i]\n",
      "/tmp/ipykernel_36/2762447381.py:28: PerformanceWarning: DataFrame is highly fragmented.  This is usually the result of calling `frame.insert` many times, which has poor performance.  Consider joining all columns at once using pd.concat(axis=1) instead. To get a de-fragmented frame, use `newframe = frame.copy()`\n",
      "  prog_df[f'emb_{i}'] = text_embeddings[:, i]\n",
      "/tmp/ipykernel_36/2762447381.py:28: PerformanceWarning: DataFrame is highly fragmented.  This is usually the result of calling `frame.insert` many times, which has poor performance.  Consider joining all columns at once using pd.concat(axis=1) instead. To get a de-fragmented frame, use `newframe = frame.copy()`\n",
      "  prog_df[f'emb_{i}'] = text_embeddings[:, i]\n",
      "/tmp/ipykernel_36/2762447381.py:28: PerformanceWarning: DataFrame is highly fragmented.  This is usually the result of calling `frame.insert` many times, which has poor performance.  Consider joining all columns at once using pd.concat(axis=1) instead. To get a de-fragmented frame, use `newframe = frame.copy()`\n",
      "  prog_df[f'emb_{i}'] = text_embeddings[:, i]\n",
      "/tmp/ipykernel_36/2762447381.py:28: PerformanceWarning: DataFrame is highly fragmented.  This is usually the result of calling `frame.insert` many times, which has poor performance.  Consider joining all columns at once using pd.concat(axis=1) instead. To get a de-fragmented frame, use `newframe = frame.copy()`\n",
      "  prog_df[f'emb_{i}'] = text_embeddings[:, i]\n",
      "/tmp/ipykernel_36/2762447381.py:28: PerformanceWarning: DataFrame is highly fragmented.  This is usually the result of calling `frame.insert` many times, which has poor performance.  Consider joining all columns at once using pd.concat(axis=1) instead. To get a de-fragmented frame, use `newframe = frame.copy()`\n",
      "  prog_df[f'emb_{i}'] = text_embeddings[:, i]\n",
      "/tmp/ipykernel_36/2762447381.py:28: PerformanceWarning: DataFrame is highly fragmented.  This is usually the result of calling `frame.insert` many times, which has poor performance.  Consider joining all columns at once using pd.concat(axis=1) instead. To get a de-fragmented frame, use `newframe = frame.copy()`\n",
      "  prog_df[f'emb_{i}'] = text_embeddings[:, i]\n",
      "/tmp/ipykernel_36/2762447381.py:28: PerformanceWarning: DataFrame is highly fragmented.  This is usually the result of calling `frame.insert` many times, which has poor performance.  Consider joining all columns at once using pd.concat(axis=1) instead. To get a de-fragmented frame, use `newframe = frame.copy()`\n",
      "  prog_df[f'emb_{i}'] = text_embeddings[:, i]\n",
      "/tmp/ipykernel_36/2762447381.py:28: PerformanceWarning: DataFrame is highly fragmented.  This is usually the result of calling `frame.insert` many times, which has poor performance.  Consider joining all columns at once using pd.concat(axis=1) instead. To get a de-fragmented frame, use `newframe = frame.copy()`\n",
      "  prog_df[f'emb_{i}'] = text_embeddings[:, i]\n",
      "/tmp/ipykernel_36/2762447381.py:28: PerformanceWarning: DataFrame is highly fragmented.  This is usually the result of calling `frame.insert` many times, which has poor performance.  Consider joining all columns at once using pd.concat(axis=1) instead. To get a de-fragmented frame, use `newframe = frame.copy()`\n",
      "  prog_df[f'emb_{i}'] = text_embeddings[:, i]\n",
      "/tmp/ipykernel_36/2762447381.py:28: PerformanceWarning: DataFrame is highly fragmented.  This is usually the result of calling `frame.insert` many times, which has poor performance.  Consider joining all columns at once using pd.concat(axis=1) instead. To get a de-fragmented frame, use `newframe = frame.copy()`\n",
      "  prog_df[f'emb_{i}'] = text_embeddings[:, i]\n",
      "/tmp/ipykernel_36/2762447381.py:28: PerformanceWarning: DataFrame is highly fragmented.  This is usually the result of calling `frame.insert` many times, which has poor performance.  Consider joining all columns at once using pd.concat(axis=1) instead. To get a de-fragmented frame, use `newframe = frame.copy()`\n",
      "  prog_df[f'emb_{i}'] = text_embeddings[:, i]\n",
      "/tmp/ipykernel_36/2762447381.py:28: PerformanceWarning: DataFrame is highly fragmented.  This is usually the result of calling `frame.insert` many times, which has poor performance.  Consider joining all columns at once using pd.concat(axis=1) instead. To get a de-fragmented frame, use `newframe = frame.copy()`\n",
      "  prog_df[f'emb_{i}'] = text_embeddings[:, i]\n",
      "/tmp/ipykernel_36/2762447381.py:28: PerformanceWarning: DataFrame is highly fragmented.  This is usually the result of calling `frame.insert` many times, which has poor performance.  Consider joining all columns at once using pd.concat(axis=1) instead. To get a de-fragmented frame, use `newframe = frame.copy()`\n",
      "  prog_df[f'emb_{i}'] = text_embeddings[:, i]\n",
      "/tmp/ipykernel_36/2762447381.py:28: PerformanceWarning: DataFrame is highly fragmented.  This is usually the result of calling `frame.insert` many times, which has poor performance.  Consider joining all columns at once using pd.concat(axis=1) instead. To get a de-fragmented frame, use `newframe = frame.copy()`\n",
      "  prog_df[f'emb_{i}'] = text_embeddings[:, i]\n",
      "/tmp/ipykernel_36/2762447381.py:28: PerformanceWarning: DataFrame is highly fragmented.  This is usually the result of calling `frame.insert` many times, which has poor performance.  Consider joining all columns at once using pd.concat(axis=1) instead. To get a de-fragmented frame, use `newframe = frame.copy()`\n",
      "  prog_df[f'emb_{i}'] = text_embeddings[:, i]\n",
      "/tmp/ipykernel_36/2762447381.py:28: PerformanceWarning: DataFrame is highly fragmented.  This is usually the result of calling `frame.insert` many times, which has poor performance.  Consider joining all columns at once using pd.concat(axis=1) instead. To get a de-fragmented frame, use `newframe = frame.copy()`\n",
      "  prog_df[f'emb_{i}'] = text_embeddings[:, i]\n",
      "/tmp/ipykernel_36/2762447381.py:28: PerformanceWarning: DataFrame is highly fragmented.  This is usually the result of calling `frame.insert` many times, which has poor performance.  Consider joining all columns at once using pd.concat(axis=1) instead. To get a de-fragmented frame, use `newframe = frame.copy()`\n",
      "  prog_df[f'emb_{i}'] = text_embeddings[:, i]\n",
      "/tmp/ipykernel_36/2762447381.py:28: PerformanceWarning: DataFrame is highly fragmented.  This is usually the result of calling `frame.insert` many times, which has poor performance.  Consider joining all columns at once using pd.concat(axis=1) instead. To get a de-fragmented frame, use `newframe = frame.copy()`\n",
      "  prog_df[f'emb_{i}'] = text_embeddings[:, i]\n",
      "/tmp/ipykernel_36/2762447381.py:28: PerformanceWarning: DataFrame is highly fragmented.  This is usually the result of calling `frame.insert` many times, which has poor performance.  Consider joining all columns at once using pd.concat(axis=1) instead. To get a de-fragmented frame, use `newframe = frame.copy()`\n",
      "  prog_df[f'emb_{i}'] = text_embeddings[:, i]\n",
      "/tmp/ipykernel_36/2762447381.py:28: PerformanceWarning: DataFrame is highly fragmented.  This is usually the result of calling `frame.insert` many times, which has poor performance.  Consider joining all columns at once using pd.concat(axis=1) instead. To get a de-fragmented frame, use `newframe = frame.copy()`\n",
      "  prog_df[f'emb_{i}'] = text_embeddings[:, i]\n",
      "/tmp/ipykernel_36/2762447381.py:28: PerformanceWarning: DataFrame is highly fragmented.  This is usually the result of calling `frame.insert` many times, which has poor performance.  Consider joining all columns at once using pd.concat(axis=1) instead. To get a de-fragmented frame, use `newframe = frame.copy()`\n",
      "  prog_df[f'emb_{i}'] = text_embeddings[:, i]\n",
      "/tmp/ipykernel_36/2762447381.py:28: PerformanceWarning: DataFrame is highly fragmented.  This is usually the result of calling `frame.insert` many times, which has poor performance.  Consider joining all columns at once using pd.concat(axis=1) instead. To get a de-fragmented frame, use `newframe = frame.copy()`\n",
      "  prog_df[f'emb_{i}'] = text_embeddings[:, i]\n",
      "/tmp/ipykernel_36/2762447381.py:28: PerformanceWarning: DataFrame is highly fragmented.  This is usually the result of calling `frame.insert` many times, which has poor performance.  Consider joining all columns at once using pd.concat(axis=1) instead. To get a de-fragmented frame, use `newframe = frame.copy()`\n",
      "  prog_df[f'emb_{i}'] = text_embeddings[:, i]\n",
      "/tmp/ipykernel_36/2762447381.py:28: PerformanceWarning: DataFrame is highly fragmented.  This is usually the result of calling `frame.insert` many times, which has poor performance.  Consider joining all columns at once using pd.concat(axis=1) instead. To get a de-fragmented frame, use `newframe = frame.copy()`\n",
      "  prog_df[f'emb_{i}'] = text_embeddings[:, i]\n",
      "/tmp/ipykernel_36/2762447381.py:28: PerformanceWarning: DataFrame is highly fragmented.  This is usually the result of calling `frame.insert` many times, which has poor performance.  Consider joining all columns at once using pd.concat(axis=1) instead. To get a de-fragmented frame, use `newframe = frame.copy()`\n",
      "  prog_df[f'emb_{i}'] = text_embeddings[:, i]\n",
      "/tmp/ipykernel_36/2762447381.py:28: PerformanceWarning: DataFrame is highly fragmented.  This is usually the result of calling `frame.insert` many times, which has poor performance.  Consider joining all columns at once using pd.concat(axis=1) instead. To get a de-fragmented frame, use `newframe = frame.copy()`\n",
      "  prog_df[f'emb_{i}'] = text_embeddings[:, i]\n",
      "/tmp/ipykernel_36/2762447381.py:28: PerformanceWarning: DataFrame is highly fragmented.  This is usually the result of calling `frame.insert` many times, which has poor performance.  Consider joining all columns at once using pd.concat(axis=1) instead. To get a de-fragmented frame, use `newframe = frame.copy()`\n",
      "  prog_df[f'emb_{i}'] = text_embeddings[:, i]\n",
      "/tmp/ipykernel_36/2762447381.py:28: PerformanceWarning: DataFrame is highly fragmented.  This is usually the result of calling `frame.insert` many times, which has poor performance.  Consider joining all columns at once using pd.concat(axis=1) instead. To get a de-fragmented frame, use `newframe = frame.copy()`\n",
      "  prog_df[f'emb_{i}'] = text_embeddings[:, i]\n",
      "/tmp/ipykernel_36/2762447381.py:28: PerformanceWarning: DataFrame is highly fragmented.  This is usually the result of calling `frame.insert` many times, which has poor performance.  Consider joining all columns at once using pd.concat(axis=1) instead. To get a de-fragmented frame, use `newframe = frame.copy()`\n",
      "  prog_df[f'emb_{i}'] = text_embeddings[:, i]\n",
      "/tmp/ipykernel_36/2762447381.py:28: PerformanceWarning: DataFrame is highly fragmented.  This is usually the result of calling `frame.insert` many times, which has poor performance.  Consider joining all columns at once using pd.concat(axis=1) instead. To get a de-fragmented frame, use `newframe = frame.copy()`\n",
      "  prog_df[f'emb_{i}'] = text_embeddings[:, i]\n",
      "/tmp/ipykernel_36/2762447381.py:28: PerformanceWarning: DataFrame is highly fragmented.  This is usually the result of calling `frame.insert` many times, which has poor performance.  Consider joining all columns at once using pd.concat(axis=1) instead. To get a de-fragmented frame, use `newframe = frame.copy()`\n",
      "  prog_df[f'emb_{i}'] = text_embeddings[:, i]\n",
      "/tmp/ipykernel_36/2762447381.py:28: PerformanceWarning: DataFrame is highly fragmented.  This is usually the result of calling `frame.insert` many times, which has poor performance.  Consider joining all columns at once using pd.concat(axis=1) instead. To get a de-fragmented frame, use `newframe = frame.copy()`\n",
      "  prog_df[f'emb_{i}'] = text_embeddings[:, i]\n",
      "/tmp/ipykernel_36/2762447381.py:28: PerformanceWarning: DataFrame is highly fragmented.  This is usually the result of calling `frame.insert` many times, which has poor performance.  Consider joining all columns at once using pd.concat(axis=1) instead. To get a de-fragmented frame, use `newframe = frame.copy()`\n",
      "  prog_df[f'emb_{i}'] = text_embeddings[:, i]\n",
      "/tmp/ipykernel_36/2762447381.py:28: PerformanceWarning: DataFrame is highly fragmented.  This is usually the result of calling `frame.insert` many times, which has poor performance.  Consider joining all columns at once using pd.concat(axis=1) instead. To get a de-fragmented frame, use `newframe = frame.copy()`\n",
      "  prog_df[f'emb_{i}'] = text_embeddings[:, i]\n",
      "/tmp/ipykernel_36/2762447381.py:28: PerformanceWarning: DataFrame is highly fragmented.  This is usually the result of calling `frame.insert` many times, which has poor performance.  Consider joining all columns at once using pd.concat(axis=1) instead. To get a de-fragmented frame, use `newframe = frame.copy()`\n",
      "  prog_df[f'emb_{i}'] = text_embeddings[:, i]\n",
      "/tmp/ipykernel_36/2762447381.py:28: PerformanceWarning: DataFrame is highly fragmented.  This is usually the result of calling `frame.insert` many times, which has poor performance.  Consider joining all columns at once using pd.concat(axis=1) instead. To get a de-fragmented frame, use `newframe = frame.copy()`\n",
      "  prog_df[f'emb_{i}'] = text_embeddings[:, i]\n",
      "/tmp/ipykernel_36/2762447381.py:28: PerformanceWarning: DataFrame is highly fragmented.  This is usually the result of calling `frame.insert` many times, which has poor performance.  Consider joining all columns at once using pd.concat(axis=1) instead. To get a de-fragmented frame, use `newframe = frame.copy()`\n",
      "  prog_df[f'emb_{i}'] = text_embeddings[:, i]\n",
      "/tmp/ipykernel_36/2762447381.py:28: PerformanceWarning: DataFrame is highly fragmented.  This is usually the result of calling `frame.insert` many times, which has poor performance.  Consider joining all columns at once using pd.concat(axis=1) instead. To get a de-fragmented frame, use `newframe = frame.copy()`\n",
      "  prog_df[f'emb_{i}'] = text_embeddings[:, i]\n",
      "/tmp/ipykernel_36/2762447381.py:28: PerformanceWarning: DataFrame is highly fragmented.  This is usually the result of calling `frame.insert` many times, which has poor performance.  Consider joining all columns at once using pd.concat(axis=1) instead. To get a de-fragmented frame, use `newframe = frame.copy()`\n",
      "  prog_df[f'emb_{i}'] = text_embeddings[:, i]\n",
      "/tmp/ipykernel_36/2762447381.py:28: PerformanceWarning: DataFrame is highly fragmented.  This is usually the result of calling `frame.insert` many times, which has poor performance.  Consider joining all columns at once using pd.concat(axis=1) instead. To get a de-fragmented frame, use `newframe = frame.copy()`\n",
      "  prog_df[f'emb_{i}'] = text_embeddings[:, i]\n",
      "/tmp/ipykernel_36/2762447381.py:28: PerformanceWarning: DataFrame is highly fragmented.  This is usually the result of calling `frame.insert` many times, which has poor performance.  Consider joining all columns at once using pd.concat(axis=1) instead. To get a de-fragmented frame, use `newframe = frame.copy()`\n",
      "  prog_df[f'emb_{i}'] = text_embeddings[:, i]\n",
      "/tmp/ipykernel_36/2762447381.py:28: PerformanceWarning: DataFrame is highly fragmented.  This is usually the result of calling `frame.insert` many times, which has poor performance.  Consider joining all columns at once using pd.concat(axis=1) instead. To get a de-fragmented frame, use `newframe = frame.copy()`\n",
      "  prog_df[f'emb_{i}'] = text_embeddings[:, i]\n",
      "/tmp/ipykernel_36/2762447381.py:28: PerformanceWarning: DataFrame is highly fragmented.  This is usually the result of calling `frame.insert` many times, which has poor performance.  Consider joining all columns at once using pd.concat(axis=1) instead. To get a de-fragmented frame, use `newframe = frame.copy()`\n",
      "  prog_df[f'emb_{i}'] = text_embeddings[:, i]\n",
      "/tmp/ipykernel_36/2762447381.py:28: PerformanceWarning: DataFrame is highly fragmented.  This is usually the result of calling `frame.insert` many times, which has poor performance.  Consider joining all columns at once using pd.concat(axis=1) instead. To get a de-fragmented frame, use `newframe = frame.copy()`\n",
      "  prog_df[f'emb_{i}'] = text_embeddings[:, i]\n",
      "/tmp/ipykernel_36/2762447381.py:28: PerformanceWarning: DataFrame is highly fragmented.  This is usually the result of calling `frame.insert` many times, which has poor performance.  Consider joining all columns at once using pd.concat(axis=1) instead. To get a de-fragmented frame, use `newframe = frame.copy()`\n",
      "  prog_df[f'emb_{i}'] = text_embeddings[:, i]\n",
      "/tmp/ipykernel_36/2762447381.py:28: PerformanceWarning: DataFrame is highly fragmented.  This is usually the result of calling `frame.insert` many times, which has poor performance.  Consider joining all columns at once using pd.concat(axis=1) instead. To get a de-fragmented frame, use `newframe = frame.copy()`\n",
      "  prog_df[f'emb_{i}'] = text_embeddings[:, i]\n",
      "/tmp/ipykernel_36/2762447381.py:28: PerformanceWarning: DataFrame is highly fragmented.  This is usually the result of calling `frame.insert` many times, which has poor performance.  Consider joining all columns at once using pd.concat(axis=1) instead. To get a de-fragmented frame, use `newframe = frame.copy()`\n",
      "  prog_df[f'emb_{i}'] = text_embeddings[:, i]\n",
      "/tmp/ipykernel_36/2762447381.py:28: PerformanceWarning: DataFrame is highly fragmented.  This is usually the result of calling `frame.insert` many times, which has poor performance.  Consider joining all columns at once using pd.concat(axis=1) instead. To get a de-fragmented frame, use `newframe = frame.copy()`\n",
      "  prog_df[f'emb_{i}'] = text_embeddings[:, i]\n",
      "/tmp/ipykernel_36/2762447381.py:28: PerformanceWarning: DataFrame is highly fragmented.  This is usually the result of calling `frame.insert` many times, which has poor performance.  Consider joining all columns at once using pd.concat(axis=1) instead. To get a de-fragmented frame, use `newframe = frame.copy()`\n",
      "  prog_df[f'emb_{i}'] = text_embeddings[:, i]\n",
      "/tmp/ipykernel_36/2762447381.py:28: PerformanceWarning: DataFrame is highly fragmented.  This is usually the result of calling `frame.insert` many times, which has poor performance.  Consider joining all columns at once using pd.concat(axis=1) instead. To get a de-fragmented frame, use `newframe = frame.copy()`\n",
      "  prog_df[f'emb_{i}'] = text_embeddings[:, i]\n",
      "/tmp/ipykernel_36/2762447381.py:28: PerformanceWarning: DataFrame is highly fragmented.  This is usually the result of calling `frame.insert` many times, which has poor performance.  Consider joining all columns at once using pd.concat(axis=1) instead. To get a de-fragmented frame, use `newframe = frame.copy()`\n",
      "  prog_df[f'emb_{i}'] = text_embeddings[:, i]\n",
      "/tmp/ipykernel_36/2762447381.py:28: PerformanceWarning: DataFrame is highly fragmented.  This is usually the result of calling `frame.insert` many times, which has poor performance.  Consider joining all columns at once using pd.concat(axis=1) instead. To get a de-fragmented frame, use `newframe = frame.copy()`\n",
      "  prog_df[f'emb_{i}'] = text_embeddings[:, i]\n",
      "/tmp/ipykernel_36/2762447381.py:28: PerformanceWarning: DataFrame is highly fragmented.  This is usually the result of calling `frame.insert` many times, which has poor performance.  Consider joining all columns at once using pd.concat(axis=1) instead. To get a de-fragmented frame, use `newframe = frame.copy()`\n",
      "  prog_df[f'emb_{i}'] = text_embeddings[:, i]\n",
      "/tmp/ipykernel_36/2762447381.py:28: PerformanceWarning: DataFrame is highly fragmented.  This is usually the result of calling `frame.insert` many times, which has poor performance.  Consider joining all columns at once using pd.concat(axis=1) instead. To get a de-fragmented frame, use `newframe = frame.copy()`\n",
      "  prog_df[f'emb_{i}'] = text_embeddings[:, i]\n",
      "/tmp/ipykernel_36/2762447381.py:28: PerformanceWarning: DataFrame is highly fragmented.  This is usually the result of calling `frame.insert` many times, which has poor performance.  Consider joining all columns at once using pd.concat(axis=1) instead. To get a de-fragmented frame, use `newframe = frame.copy()`\n",
      "  prog_df[f'emb_{i}'] = text_embeddings[:, i]\n",
      "/tmp/ipykernel_36/2762447381.py:28: PerformanceWarning: DataFrame is highly fragmented.  This is usually the result of calling `frame.insert` many times, which has poor performance.  Consider joining all columns at once using pd.concat(axis=1) instead. To get a de-fragmented frame, use `newframe = frame.copy()`\n",
      "  prog_df[f'emb_{i}'] = text_embeddings[:, i]\n",
      "/tmp/ipykernel_36/2762447381.py:28: PerformanceWarning: DataFrame is highly fragmented.  This is usually the result of calling `frame.insert` many times, which has poor performance.  Consider joining all columns at once using pd.concat(axis=1) instead. To get a de-fragmented frame, use `newframe = frame.copy()`\n",
      "  prog_df[f'emb_{i}'] = text_embeddings[:, i]\n",
      "/tmp/ipykernel_36/2762447381.py:28: PerformanceWarning: DataFrame is highly fragmented.  This is usually the result of calling `frame.insert` many times, which has poor performance.  Consider joining all columns at once using pd.concat(axis=1) instead. To get a de-fragmented frame, use `newframe = frame.copy()`\n",
      "  prog_df[f'emb_{i}'] = text_embeddings[:, i]\n",
      "/tmp/ipykernel_36/2762447381.py:28: PerformanceWarning: DataFrame is highly fragmented.  This is usually the result of calling `frame.insert` many times, which has poor performance.  Consider joining all columns at once using pd.concat(axis=1) instead. To get a de-fragmented frame, use `newframe = frame.copy()`\n",
      "  prog_df[f'emb_{i}'] = text_embeddings[:, i]\n",
      "/tmp/ipykernel_36/2762447381.py:28: PerformanceWarning: DataFrame is highly fragmented.  This is usually the result of calling `frame.insert` many times, which has poor performance.  Consider joining all columns at once using pd.concat(axis=1) instead. To get a de-fragmented frame, use `newframe = frame.copy()`\n",
      "  prog_df[f'emb_{i}'] = text_embeddings[:, i]\n",
      "/tmp/ipykernel_36/2762447381.py:28: PerformanceWarning: DataFrame is highly fragmented.  This is usually the result of calling `frame.insert` many times, which has poor performance.  Consider joining all columns at once using pd.concat(axis=1) instead. To get a de-fragmented frame, use `newframe = frame.copy()`\n",
      "  prog_df[f'emb_{i}'] = text_embeddings[:, i]\n",
      "/tmp/ipykernel_36/2762447381.py:28: PerformanceWarning: DataFrame is highly fragmented.  This is usually the result of calling `frame.insert` many times, which has poor performance.  Consider joining all columns at once using pd.concat(axis=1) instead. To get a de-fragmented frame, use `newframe = frame.copy()`\n",
      "  prog_df[f'emb_{i}'] = text_embeddings[:, i]\n",
      "/tmp/ipykernel_36/2762447381.py:28: PerformanceWarning: DataFrame is highly fragmented.  This is usually the result of calling `frame.insert` many times, which has poor performance.  Consider joining all columns at once using pd.concat(axis=1) instead. To get a de-fragmented frame, use `newframe = frame.copy()`\n",
      "  prog_df[f'emb_{i}'] = text_embeddings[:, i]\n",
      "/tmp/ipykernel_36/2762447381.py:28: PerformanceWarning: DataFrame is highly fragmented.  This is usually the result of calling `frame.insert` many times, which has poor performance.  Consider joining all columns at once using pd.concat(axis=1) instead. To get a de-fragmented frame, use `newframe = frame.copy()`\n",
      "  prog_df[f'emb_{i}'] = text_embeddings[:, i]\n",
      "/tmp/ipykernel_36/2762447381.py:28: PerformanceWarning: DataFrame is highly fragmented.  This is usually the result of calling `frame.insert` many times, which has poor performance.  Consider joining all columns at once using pd.concat(axis=1) instead. To get a de-fragmented frame, use `newframe = frame.copy()`\n",
      "  prog_df[f'emb_{i}'] = text_embeddings[:, i]\n",
      "/tmp/ipykernel_36/2762447381.py:28: PerformanceWarning: DataFrame is highly fragmented.  This is usually the result of calling `frame.insert` many times, which has poor performance.  Consider joining all columns at once using pd.concat(axis=1) instead. To get a de-fragmented frame, use `newframe = frame.copy()`\n",
      "  prog_df[f'emb_{i}'] = text_embeddings[:, i]\n",
      "/tmp/ipykernel_36/2762447381.py:28: PerformanceWarning: DataFrame is highly fragmented.  This is usually the result of calling `frame.insert` many times, which has poor performance.  Consider joining all columns at once using pd.concat(axis=1) instead. To get a de-fragmented frame, use `newframe = frame.copy()`\n",
      "  prog_df[f'emb_{i}'] = text_embeddings[:, i]\n",
      "/tmp/ipykernel_36/2762447381.py:28: PerformanceWarning: DataFrame is highly fragmented.  This is usually the result of calling `frame.insert` many times, which has poor performance.  Consider joining all columns at once using pd.concat(axis=1) instead. To get a de-fragmented frame, use `newframe = frame.copy()`\n",
      "  prog_df[f'emb_{i}'] = text_embeddings[:, i]\n",
      "/tmp/ipykernel_36/2762447381.py:28: PerformanceWarning: DataFrame is highly fragmented.  This is usually the result of calling `frame.insert` many times, which has poor performance.  Consider joining all columns at once using pd.concat(axis=1) instead. To get a de-fragmented frame, use `newframe = frame.copy()`\n",
      "  prog_df[f'emb_{i}'] = text_embeddings[:, i]\n",
      "/tmp/ipykernel_36/2762447381.py:28: PerformanceWarning: DataFrame is highly fragmented.  This is usually the result of calling `frame.insert` many times, which has poor performance.  Consider joining all columns at once using pd.concat(axis=1) instead. To get a de-fragmented frame, use `newframe = frame.copy()`\n",
      "  prog_df[f'emb_{i}'] = text_embeddings[:, i]\n",
      "/tmp/ipykernel_36/2762447381.py:28: PerformanceWarning: DataFrame is highly fragmented.  This is usually the result of calling `frame.insert` many times, which has poor performance.  Consider joining all columns at once using pd.concat(axis=1) instead. To get a de-fragmented frame, use `newframe = frame.copy()`\n",
      "  prog_df[f'emb_{i}'] = text_embeddings[:, i]\n",
      "/tmp/ipykernel_36/2762447381.py:28: PerformanceWarning: DataFrame is highly fragmented.  This is usually the result of calling `frame.insert` many times, which has poor performance.  Consider joining all columns at once using pd.concat(axis=1) instead. To get a de-fragmented frame, use `newframe = frame.copy()`\n",
      "  prog_df[f'emb_{i}'] = text_embeddings[:, i]\n",
      "/tmp/ipykernel_36/2762447381.py:28: PerformanceWarning: DataFrame is highly fragmented.  This is usually the result of calling `frame.insert` many times, which has poor performance.  Consider joining all columns at once using pd.concat(axis=1) instead. To get a de-fragmented frame, use `newframe = frame.copy()`\n",
      "  prog_df[f'emb_{i}'] = text_embeddings[:, i]\n",
      "/tmp/ipykernel_36/2762447381.py:28: PerformanceWarning: DataFrame is highly fragmented.  This is usually the result of calling `frame.insert` many times, which has poor performance.  Consider joining all columns at once using pd.concat(axis=1) instead. To get a de-fragmented frame, use `newframe = frame.copy()`\n",
      "  prog_df[f'emb_{i}'] = text_embeddings[:, i]\n",
      "/tmp/ipykernel_36/2762447381.py:28: PerformanceWarning: DataFrame is highly fragmented.  This is usually the result of calling `frame.insert` many times, which has poor performance.  Consider joining all columns at once using pd.concat(axis=1) instead. To get a de-fragmented frame, use `newframe = frame.copy()`\n",
      "  prog_df[f'emb_{i}'] = text_embeddings[:, i]\n",
      "/tmp/ipykernel_36/2762447381.py:28: PerformanceWarning: DataFrame is highly fragmented.  This is usually the result of calling `frame.insert` many times, which has poor performance.  Consider joining all columns at once using pd.concat(axis=1) instead. To get a de-fragmented frame, use `newframe = frame.copy()`\n",
      "  prog_df[f'emb_{i}'] = text_embeddings[:, i]\n",
      "/tmp/ipykernel_36/2762447381.py:28: PerformanceWarning: DataFrame is highly fragmented.  This is usually the result of calling `frame.insert` many times, which has poor performance.  Consider joining all columns at once using pd.concat(axis=1) instead. To get a de-fragmented frame, use `newframe = frame.copy()`\n",
      "  prog_df[f'emb_{i}'] = text_embeddings[:, i]\n",
      "/tmp/ipykernel_36/2762447381.py:28: PerformanceWarning: DataFrame is highly fragmented.  This is usually the result of calling `frame.insert` many times, which has poor performance.  Consider joining all columns at once using pd.concat(axis=1) instead. To get a de-fragmented frame, use `newframe = frame.copy()`\n",
      "  prog_df[f'emb_{i}'] = text_embeddings[:, i]\n",
      "/tmp/ipykernel_36/2762447381.py:28: PerformanceWarning: DataFrame is highly fragmented.  This is usually the result of calling `frame.insert` many times, which has poor performance.  Consider joining all columns at once using pd.concat(axis=1) instead. To get a de-fragmented frame, use `newframe = frame.copy()`\n",
      "  prog_df[f'emb_{i}'] = text_embeddings[:, i]\n",
      "/tmp/ipykernel_36/2762447381.py:28: PerformanceWarning: DataFrame is highly fragmented.  This is usually the result of calling `frame.insert` many times, which has poor performance.  Consider joining all columns at once using pd.concat(axis=1) instead. To get a de-fragmented frame, use `newframe = frame.copy()`\n",
      "  prog_df[f'emb_{i}'] = text_embeddings[:, i]\n",
      "/tmp/ipykernel_36/2762447381.py:28: PerformanceWarning: DataFrame is highly fragmented.  This is usually the result of calling `frame.insert` many times, which has poor performance.  Consider joining all columns at once using pd.concat(axis=1) instead. To get a de-fragmented frame, use `newframe = frame.copy()`\n",
      "  prog_df[f'emb_{i}'] = text_embeddings[:, i]\n",
      "/tmp/ipykernel_36/2762447381.py:28: PerformanceWarning: DataFrame is highly fragmented.  This is usually the result of calling `frame.insert` many times, which has poor performance.  Consider joining all columns at once using pd.concat(axis=1) instead. To get a de-fragmented frame, use `newframe = frame.copy()`\n",
      "  prog_df[f'emb_{i}'] = text_embeddings[:, i]\n",
      "/tmp/ipykernel_36/2762447381.py:28: PerformanceWarning: DataFrame is highly fragmented.  This is usually the result of calling `frame.insert` many times, which has poor performance.  Consider joining all columns at once using pd.concat(axis=1) instead. To get a de-fragmented frame, use `newframe = frame.copy()`\n",
      "  prog_df[f'emb_{i}'] = text_embeddings[:, i]\n",
      "/tmp/ipykernel_36/2762447381.py:28: PerformanceWarning: DataFrame is highly fragmented.  This is usually the result of calling `frame.insert` many times, which has poor performance.  Consider joining all columns at once using pd.concat(axis=1) instead. To get a de-fragmented frame, use `newframe = frame.copy()`\n",
      "  prog_df[f'emb_{i}'] = text_embeddings[:, i]\n",
      "/tmp/ipykernel_36/2762447381.py:28: PerformanceWarning: DataFrame is highly fragmented.  This is usually the result of calling `frame.insert` many times, which has poor performance.  Consider joining all columns at once using pd.concat(axis=1) instead. To get a de-fragmented frame, use `newframe = frame.copy()`\n",
      "  prog_df[f'emb_{i}'] = text_embeddings[:, i]\n",
      "/tmp/ipykernel_36/2762447381.py:28: PerformanceWarning: DataFrame is highly fragmented.  This is usually the result of calling `frame.insert` many times, which has poor performance.  Consider joining all columns at once using pd.concat(axis=1) instead. To get a de-fragmented frame, use `newframe = frame.copy()`\n",
      "  prog_df[f'emb_{i}'] = text_embeddings[:, i]\n",
      "/tmp/ipykernel_36/2762447381.py:28: PerformanceWarning: DataFrame is highly fragmented.  This is usually the result of calling `frame.insert` many times, which has poor performance.  Consider joining all columns at once using pd.concat(axis=1) instead. To get a de-fragmented frame, use `newframe = frame.copy()`\n",
      "  prog_df[f'emb_{i}'] = text_embeddings[:, i]\n",
      "/tmp/ipykernel_36/2762447381.py:28: PerformanceWarning: DataFrame is highly fragmented.  This is usually the result of calling `frame.insert` many times, which has poor performance.  Consider joining all columns at once using pd.concat(axis=1) instead. To get a de-fragmented frame, use `newframe = frame.copy()`\n",
      "  prog_df[f'emb_{i}'] = text_embeddings[:, i]\n",
      "/tmp/ipykernel_36/2762447381.py:28: PerformanceWarning: DataFrame is highly fragmented.  This is usually the result of calling `frame.insert` many times, which has poor performance.  Consider joining all columns at once using pd.concat(axis=1) instead. To get a de-fragmented frame, use `newframe = frame.copy()`\n",
      "  prog_df[f'emb_{i}'] = text_embeddings[:, i]\n",
      "/tmp/ipykernel_36/2762447381.py:28: PerformanceWarning: DataFrame is highly fragmented.  This is usually the result of calling `frame.insert` many times, which has poor performance.  Consider joining all columns at once using pd.concat(axis=1) instead. To get a de-fragmented frame, use `newframe = frame.copy()`\n",
      "  prog_df[f'emb_{i}'] = text_embeddings[:, i]\n",
      "/tmp/ipykernel_36/2762447381.py:28: PerformanceWarning: DataFrame is highly fragmented.  This is usually the result of calling `frame.insert` many times, which has poor performance.  Consider joining all columns at once using pd.concat(axis=1) instead. To get a de-fragmented frame, use `newframe = frame.copy()`\n",
      "  prog_df[f'emb_{i}'] = text_embeddings[:, i]\n",
      "/tmp/ipykernel_36/2762447381.py:28: PerformanceWarning: DataFrame is highly fragmented.  This is usually the result of calling `frame.insert` many times, which has poor performance.  Consider joining all columns at once using pd.concat(axis=1) instead. To get a de-fragmented frame, use `newframe = frame.copy()`\n",
      "  prog_df[f'emb_{i}'] = text_embeddings[:, i]\n",
      "/tmp/ipykernel_36/2762447381.py:28: PerformanceWarning: DataFrame is highly fragmented.  This is usually the result of calling `frame.insert` many times, which has poor performance.  Consider joining all columns at once using pd.concat(axis=1) instead. To get a de-fragmented frame, use `newframe = frame.copy()`\n",
      "  prog_df[f'emb_{i}'] = text_embeddings[:, i]\n",
      "/tmp/ipykernel_36/2762447381.py:28: PerformanceWarning: DataFrame is highly fragmented.  This is usually the result of calling `frame.insert` many times, which has poor performance.  Consider joining all columns at once using pd.concat(axis=1) instead. To get a de-fragmented frame, use `newframe = frame.copy()`\n",
      "  prog_df[f'emb_{i}'] = text_embeddings[:, i]\n",
      "/tmp/ipykernel_36/2762447381.py:28: PerformanceWarning: DataFrame is highly fragmented.  This is usually the result of calling `frame.insert` many times, which has poor performance.  Consider joining all columns at once using pd.concat(axis=1) instead. To get a de-fragmented frame, use `newframe = frame.copy()`\n",
      "  prog_df[f'emb_{i}'] = text_embeddings[:, i]\n",
      "/tmp/ipykernel_36/2762447381.py:28: PerformanceWarning: DataFrame is highly fragmented.  This is usually the result of calling `frame.insert` many times, which has poor performance.  Consider joining all columns at once using pd.concat(axis=1) instead. To get a de-fragmented frame, use `newframe = frame.copy()`\n",
      "  prog_df[f'emb_{i}'] = text_embeddings[:, i]\n",
      "/tmp/ipykernel_36/2762447381.py:28: PerformanceWarning: DataFrame is highly fragmented.  This is usually the result of calling `frame.insert` many times, which has poor performance.  Consider joining all columns at once using pd.concat(axis=1) instead. To get a de-fragmented frame, use `newframe = frame.copy()`\n",
      "  prog_df[f'emb_{i}'] = text_embeddings[:, i]\n",
      "/tmp/ipykernel_36/2762447381.py:28: PerformanceWarning: DataFrame is highly fragmented.  This is usually the result of calling `frame.insert` many times, which has poor performance.  Consider joining all columns at once using pd.concat(axis=1) instead. To get a de-fragmented frame, use `newframe = frame.copy()`\n",
      "  prog_df[f'emb_{i}'] = text_embeddings[:, i]\n",
      "/tmp/ipykernel_36/2762447381.py:28: PerformanceWarning: DataFrame is highly fragmented.  This is usually the result of calling `frame.insert` many times, which has poor performance.  Consider joining all columns at once using pd.concat(axis=1) instead. To get a de-fragmented frame, use `newframe = frame.copy()`\n",
      "  prog_df[f'emb_{i}'] = text_embeddings[:, i]\n",
      "/tmp/ipykernel_36/2762447381.py:28: PerformanceWarning: DataFrame is highly fragmented.  This is usually the result of calling `frame.insert` many times, which has poor performance.  Consider joining all columns at once using pd.concat(axis=1) instead. To get a de-fragmented frame, use `newframe = frame.copy()`\n",
      "  prog_df[f'emb_{i}'] = text_embeddings[:, i]\n",
      "/tmp/ipykernel_36/2762447381.py:28: PerformanceWarning: DataFrame is highly fragmented.  This is usually the result of calling `frame.insert` many times, which has poor performance.  Consider joining all columns at once using pd.concat(axis=1) instead. To get a de-fragmented frame, use `newframe = frame.copy()`\n",
      "  prog_df[f'emb_{i}'] = text_embeddings[:, i]\n",
      "/tmp/ipykernel_36/2762447381.py:28: PerformanceWarning: DataFrame is highly fragmented.  This is usually the result of calling `frame.insert` many times, which has poor performance.  Consider joining all columns at once using pd.concat(axis=1) instead. To get a de-fragmented frame, use `newframe = frame.copy()`\n",
      "  prog_df[f'emb_{i}'] = text_embeddings[:, i]\n",
      "/tmp/ipykernel_36/2762447381.py:28: PerformanceWarning: DataFrame is highly fragmented.  This is usually the result of calling `frame.insert` many times, which has poor performance.  Consider joining all columns at once using pd.concat(axis=1) instead. To get a de-fragmented frame, use `newframe = frame.copy()`\n",
      "  prog_df[f'emb_{i}'] = text_embeddings[:, i]\n",
      "/tmp/ipykernel_36/2762447381.py:28: PerformanceWarning: DataFrame is highly fragmented.  This is usually the result of calling `frame.insert` many times, which has poor performance.  Consider joining all columns at once using pd.concat(axis=1) instead. To get a de-fragmented frame, use `newframe = frame.copy()`\n",
      "  prog_df[f'emb_{i}'] = text_embeddings[:, i]\n",
      "/tmp/ipykernel_36/2762447381.py:28: PerformanceWarning: DataFrame is highly fragmented.  This is usually the result of calling `frame.insert` many times, which has poor performance.  Consider joining all columns at once using pd.concat(axis=1) instead. To get a de-fragmented frame, use `newframe = frame.copy()`\n",
      "  prog_df[f'emb_{i}'] = text_embeddings[:, i]\n",
      "/tmp/ipykernel_36/2762447381.py:28: PerformanceWarning: DataFrame is highly fragmented.  This is usually the result of calling `frame.insert` many times, which has poor performance.  Consider joining all columns at once using pd.concat(axis=1) instead. To get a de-fragmented frame, use `newframe = frame.copy()`\n",
      "  prog_df[f'emb_{i}'] = text_embeddings[:, i]\n",
      "/tmp/ipykernel_36/2762447381.py:28: PerformanceWarning: DataFrame is highly fragmented.  This is usually the result of calling `frame.insert` many times, which has poor performance.  Consider joining all columns at once using pd.concat(axis=1) instead. To get a de-fragmented frame, use `newframe = frame.copy()`\n",
      "  prog_df[f'emb_{i}'] = text_embeddings[:, i]\n",
      "/tmp/ipykernel_36/2762447381.py:28: PerformanceWarning: DataFrame is highly fragmented.  This is usually the result of calling `frame.insert` many times, which has poor performance.  Consider joining all columns at once using pd.concat(axis=1) instead. To get a de-fragmented frame, use `newframe = frame.copy()`\n",
      "  prog_df[f'emb_{i}'] = text_embeddings[:, i]\n",
      "/tmp/ipykernel_36/2762447381.py:28: PerformanceWarning: DataFrame is highly fragmented.  This is usually the result of calling `frame.insert` many times, which has poor performance.  Consider joining all columns at once using pd.concat(axis=1) instead. To get a de-fragmented frame, use `newframe = frame.copy()`\n",
      "  prog_df[f'emb_{i}'] = text_embeddings[:, i]\n",
      "/tmp/ipykernel_36/2762447381.py:28: PerformanceWarning: DataFrame is highly fragmented.  This is usually the result of calling `frame.insert` many times, which has poor performance.  Consider joining all columns at once using pd.concat(axis=1) instead. To get a de-fragmented frame, use `newframe = frame.copy()`\n",
      "  prog_df[f'emb_{i}'] = text_embeddings[:, i]\n",
      "/tmp/ipykernel_36/2762447381.py:28: PerformanceWarning: DataFrame is highly fragmented.  This is usually the result of calling `frame.insert` many times, which has poor performance.  Consider joining all columns at once using pd.concat(axis=1) instead. To get a de-fragmented frame, use `newframe = frame.copy()`\n",
      "  prog_df[f'emb_{i}'] = text_embeddings[:, i]\n",
      "/tmp/ipykernel_36/2762447381.py:28: PerformanceWarning: DataFrame is highly fragmented.  This is usually the result of calling `frame.insert` many times, which has poor performance.  Consider joining all columns at once using pd.concat(axis=1) instead. To get a de-fragmented frame, use `newframe = frame.copy()`\n",
      "  prog_df[f'emb_{i}'] = text_embeddings[:, i]\n",
      "/tmp/ipykernel_36/2762447381.py:28: PerformanceWarning: DataFrame is highly fragmented.  This is usually the result of calling `frame.insert` many times, which has poor performance.  Consider joining all columns at once using pd.concat(axis=1) instead. To get a de-fragmented frame, use `newframe = frame.copy()`\n",
      "  prog_df[f'emb_{i}'] = text_embeddings[:, i]\n",
      "/tmp/ipykernel_36/2762447381.py:28: PerformanceWarning: DataFrame is highly fragmented.  This is usually the result of calling `frame.insert` many times, which has poor performance.  Consider joining all columns at once using pd.concat(axis=1) instead. To get a de-fragmented frame, use `newframe = frame.copy()`\n",
      "  prog_df[f'emb_{i}'] = text_embeddings[:, i]\n",
      "/tmp/ipykernel_36/2762447381.py:28: PerformanceWarning: DataFrame is highly fragmented.  This is usually the result of calling `frame.insert` many times, which has poor performance.  Consider joining all columns at once using pd.concat(axis=1) instead. To get a de-fragmented frame, use `newframe = frame.copy()`\n",
      "  prog_df[f'emb_{i}'] = text_embeddings[:, i]\n",
      "/tmp/ipykernel_36/2762447381.py:28: PerformanceWarning: DataFrame is highly fragmented.  This is usually the result of calling `frame.insert` many times, which has poor performance.  Consider joining all columns at once using pd.concat(axis=1) instead. To get a de-fragmented frame, use `newframe = frame.copy()`\n",
      "  prog_df[f'emb_{i}'] = text_embeddings[:, i]\n",
      "/tmp/ipykernel_36/2762447381.py:28: PerformanceWarning: DataFrame is highly fragmented.  This is usually the result of calling `frame.insert` many times, which has poor performance.  Consider joining all columns at once using pd.concat(axis=1) instead. To get a de-fragmented frame, use `newframe = frame.copy()`\n",
      "  prog_df[f'emb_{i}'] = text_embeddings[:, i]\n",
      "/tmp/ipykernel_36/2762447381.py:28: PerformanceWarning: DataFrame is highly fragmented.  This is usually the result of calling `frame.insert` many times, which has poor performance.  Consider joining all columns at once using pd.concat(axis=1) instead. To get a de-fragmented frame, use `newframe = frame.copy()`\n",
      "  prog_df[f'emb_{i}'] = text_embeddings[:, i]\n",
      "/tmp/ipykernel_36/2762447381.py:28: PerformanceWarning: DataFrame is highly fragmented.  This is usually the result of calling `frame.insert` many times, which has poor performance.  Consider joining all columns at once using pd.concat(axis=1) instead. To get a de-fragmented frame, use `newframe = frame.copy()`\n",
      "  prog_df[f'emb_{i}'] = text_embeddings[:, i]\n",
      "/tmp/ipykernel_36/2762447381.py:28: PerformanceWarning: DataFrame is highly fragmented.  This is usually the result of calling `frame.insert` many times, which has poor performance.  Consider joining all columns at once using pd.concat(axis=1) instead. To get a de-fragmented frame, use `newframe = frame.copy()`\n",
      "  prog_df[f'emb_{i}'] = text_embeddings[:, i]\n",
      "/tmp/ipykernel_36/2762447381.py:28: PerformanceWarning: DataFrame is highly fragmented.  This is usually the result of calling `frame.insert` many times, which has poor performance.  Consider joining all columns at once using pd.concat(axis=1) instead. To get a de-fragmented frame, use `newframe = frame.copy()`\n",
      "  prog_df[f'emb_{i}'] = text_embeddings[:, i]\n",
      "/tmp/ipykernel_36/2762447381.py:28: PerformanceWarning: DataFrame is highly fragmented.  This is usually the result of calling `frame.insert` many times, which has poor performance.  Consider joining all columns at once using pd.concat(axis=1) instead. To get a de-fragmented frame, use `newframe = frame.copy()`\n",
      "  prog_df[f'emb_{i}'] = text_embeddings[:, i]\n",
      "/tmp/ipykernel_36/2762447381.py:28: PerformanceWarning: DataFrame is highly fragmented.  This is usually the result of calling `frame.insert` many times, which has poor performance.  Consider joining all columns at once using pd.concat(axis=1) instead. To get a de-fragmented frame, use `newframe = frame.copy()`\n",
      "  prog_df[f'emb_{i}'] = text_embeddings[:, i]\n",
      "/tmp/ipykernel_36/2762447381.py:28: PerformanceWarning: DataFrame is highly fragmented.  This is usually the result of calling `frame.insert` many times, which has poor performance.  Consider joining all columns at once using pd.concat(axis=1) instead. To get a de-fragmented frame, use `newframe = frame.copy()`\n",
      "  prog_df[f'emb_{i}'] = text_embeddings[:, i]\n",
      "/tmp/ipykernel_36/2762447381.py:28: PerformanceWarning: DataFrame is highly fragmented.  This is usually the result of calling `frame.insert` many times, which has poor performance.  Consider joining all columns at once using pd.concat(axis=1) instead. To get a de-fragmented frame, use `newframe = frame.copy()`\n",
      "  prog_df[f'emb_{i}'] = text_embeddings[:, i]\n",
      "/tmp/ipykernel_36/2762447381.py:28: PerformanceWarning: DataFrame is highly fragmented.  This is usually the result of calling `frame.insert` many times, which has poor performance.  Consider joining all columns at once using pd.concat(axis=1) instead. To get a de-fragmented frame, use `newframe = frame.copy()`\n",
      "  prog_df[f'emb_{i}'] = text_embeddings[:, i]\n",
      "/tmp/ipykernel_36/2762447381.py:28: PerformanceWarning: DataFrame is highly fragmented.  This is usually the result of calling `frame.insert` many times, which has poor performance.  Consider joining all columns at once using pd.concat(axis=1) instead. To get a de-fragmented frame, use `newframe = frame.copy()`\n",
      "  prog_df[f'emb_{i}'] = text_embeddings[:, i]\n",
      "/tmp/ipykernel_36/2762447381.py:28: PerformanceWarning: DataFrame is highly fragmented.  This is usually the result of calling `frame.insert` many times, which has poor performance.  Consider joining all columns at once using pd.concat(axis=1) instead. To get a de-fragmented frame, use `newframe = frame.copy()`\n",
      "  prog_df[f'emb_{i}'] = text_embeddings[:, i]\n",
      "/tmp/ipykernel_36/2762447381.py:28: PerformanceWarning: DataFrame is highly fragmented.  This is usually the result of calling `frame.insert` many times, which has poor performance.  Consider joining all columns at once using pd.concat(axis=1) instead. To get a de-fragmented frame, use `newframe = frame.copy()`\n",
      "  prog_df[f'emb_{i}'] = text_embeddings[:, i]\n",
      "/tmp/ipykernel_36/2762447381.py:28: PerformanceWarning: DataFrame is highly fragmented.  This is usually the result of calling `frame.insert` many times, which has poor performance.  Consider joining all columns at once using pd.concat(axis=1) instead. To get a de-fragmented frame, use `newframe = frame.copy()`\n",
      "  prog_df[f'emb_{i}'] = text_embeddings[:, i]\n",
      "/tmp/ipykernel_36/2762447381.py:28: PerformanceWarning: DataFrame is highly fragmented.  This is usually the result of calling `frame.insert` many times, which has poor performance.  Consider joining all columns at once using pd.concat(axis=1) instead. To get a de-fragmented frame, use `newframe = frame.copy()`\n",
      "  prog_df[f'emb_{i}'] = text_embeddings[:, i]\n",
      "/tmp/ipykernel_36/2762447381.py:28: PerformanceWarning: DataFrame is highly fragmented.  This is usually the result of calling `frame.insert` many times, which has poor performance.  Consider joining all columns at once using pd.concat(axis=1) instead. To get a de-fragmented frame, use `newframe = frame.copy()`\n",
      "  prog_df[f'emb_{i}'] = text_embeddings[:, i]\n",
      "/tmp/ipykernel_36/2762447381.py:28: PerformanceWarning: DataFrame is highly fragmented.  This is usually the result of calling `frame.insert` many times, which has poor performance.  Consider joining all columns at once using pd.concat(axis=1) instead. To get a de-fragmented frame, use `newframe = frame.copy()`\n",
      "  prog_df[f'emb_{i}'] = text_embeddings[:, i]\n",
      "/tmp/ipykernel_36/2762447381.py:28: PerformanceWarning: DataFrame is highly fragmented.  This is usually the result of calling `frame.insert` many times, which has poor performance.  Consider joining all columns at once using pd.concat(axis=1) instead. To get a de-fragmented frame, use `newframe = frame.copy()`\n",
      "  prog_df[f'emb_{i}'] = text_embeddings[:, i]\n",
      "/tmp/ipykernel_36/2762447381.py:28: PerformanceWarning: DataFrame is highly fragmented.  This is usually the result of calling `frame.insert` many times, which has poor performance.  Consider joining all columns at once using pd.concat(axis=1) instead. To get a de-fragmented frame, use `newframe = frame.copy()`\n",
      "  prog_df[f'emb_{i}'] = text_embeddings[:, i]\n",
      "/tmp/ipykernel_36/2762447381.py:28: PerformanceWarning: DataFrame is highly fragmented.  This is usually the result of calling `frame.insert` many times, which has poor performance.  Consider joining all columns at once using pd.concat(axis=1) instead. To get a de-fragmented frame, use `newframe = frame.copy()`\n",
      "  prog_df[f'emb_{i}'] = text_embeddings[:, i]\n",
      "/tmp/ipykernel_36/2762447381.py:28: PerformanceWarning: DataFrame is highly fragmented.  This is usually the result of calling `frame.insert` many times, which has poor performance.  Consider joining all columns at once using pd.concat(axis=1) instead. To get a de-fragmented frame, use `newframe = frame.copy()`\n",
      "  prog_df[f'emb_{i}'] = text_embeddings[:, i]\n",
      "/tmp/ipykernel_36/2762447381.py:28: PerformanceWarning: DataFrame is highly fragmented.  This is usually the result of calling `frame.insert` many times, which has poor performance.  Consider joining all columns at once using pd.concat(axis=1) instead. To get a de-fragmented frame, use `newframe = frame.copy()`\n",
      "  prog_df[f'emb_{i}'] = text_embeddings[:, i]\n",
      "/tmp/ipykernel_36/2762447381.py:28: PerformanceWarning: DataFrame is highly fragmented.  This is usually the result of calling `frame.insert` many times, which has poor performance.  Consider joining all columns at once using pd.concat(axis=1) instead. To get a de-fragmented frame, use `newframe = frame.copy()`\n",
      "  prog_df[f'emb_{i}'] = text_embeddings[:, i]\n",
      "/tmp/ipykernel_36/2762447381.py:28: PerformanceWarning: DataFrame is highly fragmented.  This is usually the result of calling `frame.insert` many times, which has poor performance.  Consider joining all columns at once using pd.concat(axis=1) instead. To get a de-fragmented frame, use `newframe = frame.copy()`\n",
      "  prog_df[f'emb_{i}'] = text_embeddings[:, i]\n",
      "/tmp/ipykernel_36/2762447381.py:28: PerformanceWarning: DataFrame is highly fragmented.  This is usually the result of calling `frame.insert` many times, which has poor performance.  Consider joining all columns at once using pd.concat(axis=1) instead. To get a de-fragmented frame, use `newframe = frame.copy()`\n",
      "  prog_df[f'emb_{i}'] = text_embeddings[:, i]\n",
      "/tmp/ipykernel_36/2762447381.py:28: PerformanceWarning: DataFrame is highly fragmented.  This is usually the result of calling `frame.insert` many times, which has poor performance.  Consider joining all columns at once using pd.concat(axis=1) instead. To get a de-fragmented frame, use `newframe = frame.copy()`\n",
      "  prog_df[f'emb_{i}'] = text_embeddings[:, i]\n",
      "/tmp/ipykernel_36/2762447381.py:28: PerformanceWarning: DataFrame is highly fragmented.  This is usually the result of calling `frame.insert` many times, which has poor performance.  Consider joining all columns at once using pd.concat(axis=1) instead. To get a de-fragmented frame, use `newframe = frame.copy()`\n",
      "  prog_df[f'emb_{i}'] = text_embeddings[:, i]\n",
      "/tmp/ipykernel_36/2762447381.py:28: PerformanceWarning: DataFrame is highly fragmented.  This is usually the result of calling `frame.insert` many times, which has poor performance.  Consider joining all columns at once using pd.concat(axis=1) instead. To get a de-fragmented frame, use `newframe = frame.copy()`\n",
      "  prog_df[f'emb_{i}'] = text_embeddings[:, i]\n",
      "/tmp/ipykernel_36/2762447381.py:28: PerformanceWarning: DataFrame is highly fragmented.  This is usually the result of calling `frame.insert` many times, which has poor performance.  Consider joining all columns at once using pd.concat(axis=1) instead. To get a de-fragmented frame, use `newframe = frame.copy()`\n",
      "  prog_df[f'emb_{i}'] = text_embeddings[:, i]\n",
      "/tmp/ipykernel_36/2762447381.py:28: PerformanceWarning: DataFrame is highly fragmented.  This is usually the result of calling `frame.insert` many times, which has poor performance.  Consider joining all columns at once using pd.concat(axis=1) instead. To get a de-fragmented frame, use `newframe = frame.copy()`\n",
      "  prog_df[f'emb_{i}'] = text_embeddings[:, i]\n",
      "/tmp/ipykernel_36/2762447381.py:28: PerformanceWarning: DataFrame is highly fragmented.  This is usually the result of calling `frame.insert` many times, which has poor performance.  Consider joining all columns at once using pd.concat(axis=1) instead. To get a de-fragmented frame, use `newframe = frame.copy()`\n",
      "  prog_df[f'emb_{i}'] = text_embeddings[:, i]\n",
      "/tmp/ipykernel_36/2762447381.py:28: PerformanceWarning: DataFrame is highly fragmented.  This is usually the result of calling `frame.insert` many times, which has poor performance.  Consider joining all columns at once using pd.concat(axis=1) instead. To get a de-fragmented frame, use `newframe = frame.copy()`\n",
      "  prog_df[f'emb_{i}'] = text_embeddings[:, i]\n",
      "/tmp/ipykernel_36/2762447381.py:28: PerformanceWarning: DataFrame is highly fragmented.  This is usually the result of calling `frame.insert` many times, which has poor performance.  Consider joining all columns at once using pd.concat(axis=1) instead. To get a de-fragmented frame, use `newframe = frame.copy()`\n",
      "  prog_df[f'emb_{i}'] = text_embeddings[:, i]\n",
      "/tmp/ipykernel_36/2762447381.py:28: PerformanceWarning: DataFrame is highly fragmented.  This is usually the result of calling `frame.insert` many times, which has poor performance.  Consider joining all columns at once using pd.concat(axis=1) instead. To get a de-fragmented frame, use `newframe = frame.copy()`\n",
      "  prog_df[f'emb_{i}'] = text_embeddings[:, i]\n",
      "/tmp/ipykernel_36/2762447381.py:28: PerformanceWarning: DataFrame is highly fragmented.  This is usually the result of calling `frame.insert` many times, which has poor performance.  Consider joining all columns at once using pd.concat(axis=1) instead. To get a de-fragmented frame, use `newframe = frame.copy()`\n",
      "  prog_df[f'emb_{i}'] = text_embeddings[:, i]\n",
      "/tmp/ipykernel_36/2762447381.py:28: PerformanceWarning: DataFrame is highly fragmented.  This is usually the result of calling `frame.insert` many times, which has poor performance.  Consider joining all columns at once using pd.concat(axis=1) instead. To get a de-fragmented frame, use `newframe = frame.copy()`\n",
      "  prog_df[f'emb_{i}'] = text_embeddings[:, i]\n",
      "/tmp/ipykernel_36/2762447381.py:28: PerformanceWarning: DataFrame is highly fragmented.  This is usually the result of calling `frame.insert` many times, which has poor performance.  Consider joining all columns at once using pd.concat(axis=1) instead. To get a de-fragmented frame, use `newframe = frame.copy()`\n",
      "  prog_df[f'emb_{i}'] = text_embeddings[:, i]\n",
      "/tmp/ipykernel_36/2762447381.py:28: PerformanceWarning: DataFrame is highly fragmented.  This is usually the result of calling `frame.insert` many times, which has poor performance.  Consider joining all columns at once using pd.concat(axis=1) instead. To get a de-fragmented frame, use `newframe = frame.copy()`\n",
      "  prog_df[f'emb_{i}'] = text_embeddings[:, i]\n",
      "/tmp/ipykernel_36/2762447381.py:28: PerformanceWarning: DataFrame is highly fragmented.  This is usually the result of calling `frame.insert` many times, which has poor performance.  Consider joining all columns at once using pd.concat(axis=1) instead. To get a de-fragmented frame, use `newframe = frame.copy()`\n",
      "  prog_df[f'emb_{i}'] = text_embeddings[:, i]\n",
      "/tmp/ipykernel_36/2762447381.py:28: PerformanceWarning: DataFrame is highly fragmented.  This is usually the result of calling `frame.insert` many times, which has poor performance.  Consider joining all columns at once using pd.concat(axis=1) instead. To get a de-fragmented frame, use `newframe = frame.copy()`\n",
      "  prog_df[f'emb_{i}'] = text_embeddings[:, i]\n",
      "/tmp/ipykernel_36/2762447381.py:28: PerformanceWarning: DataFrame is highly fragmented.  This is usually the result of calling `frame.insert` many times, which has poor performance.  Consider joining all columns at once using pd.concat(axis=1) instead. To get a de-fragmented frame, use `newframe = frame.copy()`\n",
      "  prog_df[f'emb_{i}'] = text_embeddings[:, i]\n",
      "/tmp/ipykernel_36/2762447381.py:28: PerformanceWarning: DataFrame is highly fragmented.  This is usually the result of calling `frame.insert` many times, which has poor performance.  Consider joining all columns at once using pd.concat(axis=1) instead. To get a de-fragmented frame, use `newframe = frame.copy()`\n",
      "  prog_df[f'emb_{i}'] = text_embeddings[:, i]\n",
      "/tmp/ipykernel_36/2762447381.py:28: PerformanceWarning: DataFrame is highly fragmented.  This is usually the result of calling `frame.insert` many times, which has poor performance.  Consider joining all columns at once using pd.concat(axis=1) instead. To get a de-fragmented frame, use `newframe = frame.copy()`\n",
      "  prog_df[f'emb_{i}'] = text_embeddings[:, i]\n",
      "/tmp/ipykernel_36/2762447381.py:28: PerformanceWarning: DataFrame is highly fragmented.  This is usually the result of calling `frame.insert` many times, which has poor performance.  Consider joining all columns at once using pd.concat(axis=1) instead. To get a de-fragmented frame, use `newframe = frame.copy()`\n",
      "  prog_df[f'emb_{i}'] = text_embeddings[:, i]\n",
      "/tmp/ipykernel_36/2762447381.py:28: PerformanceWarning: DataFrame is highly fragmented.  This is usually the result of calling `frame.insert` many times, which has poor performance.  Consider joining all columns at once using pd.concat(axis=1) instead. To get a de-fragmented frame, use `newframe = frame.copy()`\n",
      "  prog_df[f'emb_{i}'] = text_embeddings[:, i]\n",
      "/tmp/ipykernel_36/2762447381.py:28: PerformanceWarning: DataFrame is highly fragmented.  This is usually the result of calling `frame.insert` many times, which has poor performance.  Consider joining all columns at once using pd.concat(axis=1) instead. To get a de-fragmented frame, use `newframe = frame.copy()`\n",
      "  prog_df[f'emb_{i}'] = text_embeddings[:, i]\n",
      "/tmp/ipykernel_36/2762447381.py:28: PerformanceWarning: DataFrame is highly fragmented.  This is usually the result of calling `frame.insert` many times, which has poor performance.  Consider joining all columns at once using pd.concat(axis=1) instead. To get a de-fragmented frame, use `newframe = frame.copy()`\n",
      "  prog_df[f'emb_{i}'] = text_embeddings[:, i]\n",
      "/tmp/ipykernel_36/2762447381.py:28: PerformanceWarning: DataFrame is highly fragmented.  This is usually the result of calling `frame.insert` many times, which has poor performance.  Consider joining all columns at once using pd.concat(axis=1) instead. To get a de-fragmented frame, use `newframe = frame.copy()`\n",
      "  prog_df[f'emb_{i}'] = text_embeddings[:, i]\n",
      "/tmp/ipykernel_36/2762447381.py:28: PerformanceWarning: DataFrame is highly fragmented.  This is usually the result of calling `frame.insert` many times, which has poor performance.  Consider joining all columns at once using pd.concat(axis=1) instead. To get a de-fragmented frame, use `newframe = frame.copy()`\n",
      "  prog_df[f'emb_{i}'] = text_embeddings[:, i]\n",
      "/tmp/ipykernel_36/2762447381.py:28: PerformanceWarning: DataFrame is highly fragmented.  This is usually the result of calling `frame.insert` many times, which has poor performance.  Consider joining all columns at once using pd.concat(axis=1) instead. To get a de-fragmented frame, use `newframe = frame.copy()`\n",
      "  prog_df[f'emb_{i}'] = text_embeddings[:, i]\n",
      "/tmp/ipykernel_36/2762447381.py:28: PerformanceWarning: DataFrame is highly fragmented.  This is usually the result of calling `frame.insert` many times, which has poor performance.  Consider joining all columns at once using pd.concat(axis=1) instead. To get a de-fragmented frame, use `newframe = frame.copy()`\n",
      "  prog_df[f'emb_{i}'] = text_embeddings[:, i]\n",
      "/tmp/ipykernel_36/2762447381.py:28: PerformanceWarning: DataFrame is highly fragmented.  This is usually the result of calling `frame.insert` many times, which has poor performance.  Consider joining all columns at once using pd.concat(axis=1) instead. To get a de-fragmented frame, use `newframe = frame.copy()`\n",
      "  prog_df[f'emb_{i}'] = text_embeddings[:, i]\n",
      "/tmp/ipykernel_36/2762447381.py:28: PerformanceWarning: DataFrame is highly fragmented.  This is usually the result of calling `frame.insert` many times, which has poor performance.  Consider joining all columns at once using pd.concat(axis=1) instead. To get a de-fragmented frame, use `newframe = frame.copy()`\n",
      "  prog_df[f'emb_{i}'] = text_embeddings[:, i]\n",
      "/tmp/ipykernel_36/2762447381.py:28: PerformanceWarning: DataFrame is highly fragmented.  This is usually the result of calling `frame.insert` many times, which has poor performance.  Consider joining all columns at once using pd.concat(axis=1) instead. To get a de-fragmented frame, use `newframe = frame.copy()`\n",
      "  prog_df[f'emb_{i}'] = text_embeddings[:, i]\n",
      "/tmp/ipykernel_36/2762447381.py:28: PerformanceWarning: DataFrame is highly fragmented.  This is usually the result of calling `frame.insert` many times, which has poor performance.  Consider joining all columns at once using pd.concat(axis=1) instead. To get a de-fragmented frame, use `newframe = frame.copy()`\n",
      "  prog_df[f'emb_{i}'] = text_embeddings[:, i]\n",
      "/tmp/ipykernel_36/2762447381.py:28: PerformanceWarning: DataFrame is highly fragmented.  This is usually the result of calling `frame.insert` many times, which has poor performance.  Consider joining all columns at once using pd.concat(axis=1) instead. To get a de-fragmented frame, use `newframe = frame.copy()`\n",
      "  prog_df[f'emb_{i}'] = text_embeddings[:, i]\n",
      "/tmp/ipykernel_36/2762447381.py:28: PerformanceWarning: DataFrame is highly fragmented.  This is usually the result of calling `frame.insert` many times, which has poor performance.  Consider joining all columns at once using pd.concat(axis=1) instead. To get a de-fragmented frame, use `newframe = frame.copy()`\n",
      "  prog_df[f'emb_{i}'] = text_embeddings[:, i]\n",
      "/tmp/ipykernel_36/2762447381.py:28: PerformanceWarning: DataFrame is highly fragmented.  This is usually the result of calling `frame.insert` many times, which has poor performance.  Consider joining all columns at once using pd.concat(axis=1) instead. To get a de-fragmented frame, use `newframe = frame.copy()`\n",
      "  prog_df[f'emb_{i}'] = text_embeddings[:, i]\n",
      "/tmp/ipykernel_36/2762447381.py:28: PerformanceWarning: DataFrame is highly fragmented.  This is usually the result of calling `frame.insert` many times, which has poor performance.  Consider joining all columns at once using pd.concat(axis=1) instead. To get a de-fragmented frame, use `newframe = frame.copy()`\n",
      "  prog_df[f'emb_{i}'] = text_embeddings[:, i]\n",
      "/tmp/ipykernel_36/2762447381.py:28: PerformanceWarning: DataFrame is highly fragmented.  This is usually the result of calling `frame.insert` many times, which has poor performance.  Consider joining all columns at once using pd.concat(axis=1) instead. To get a de-fragmented frame, use `newframe = frame.copy()`\n",
      "  prog_df[f'emb_{i}'] = text_embeddings[:, i]\n",
      "/tmp/ipykernel_36/2762447381.py:28: PerformanceWarning: DataFrame is highly fragmented.  This is usually the result of calling `frame.insert` many times, which has poor performance.  Consider joining all columns at once using pd.concat(axis=1) instead. To get a de-fragmented frame, use `newframe = frame.copy()`\n",
      "  prog_df[f'emb_{i}'] = text_embeddings[:, i]\n",
      "/tmp/ipykernel_36/2762447381.py:28: PerformanceWarning: DataFrame is highly fragmented.  This is usually the result of calling `frame.insert` many times, which has poor performance.  Consider joining all columns at once using pd.concat(axis=1) instead. To get a de-fragmented frame, use `newframe = frame.copy()`\n",
      "  prog_df[f'emb_{i}'] = text_embeddings[:, i]\n",
      "/tmp/ipykernel_36/2762447381.py:28: PerformanceWarning: DataFrame is highly fragmented.  This is usually the result of calling `frame.insert` many times, which has poor performance.  Consider joining all columns at once using pd.concat(axis=1) instead. To get a de-fragmented frame, use `newframe = frame.copy()`\n",
      "  prog_df[f'emb_{i}'] = text_embeddings[:, i]\n",
      "/tmp/ipykernel_36/2762447381.py:28: PerformanceWarning: DataFrame is highly fragmented.  This is usually the result of calling `frame.insert` many times, which has poor performance.  Consider joining all columns at once using pd.concat(axis=1) instead. To get a de-fragmented frame, use `newframe = frame.copy()`\n",
      "  prog_df[f'emb_{i}'] = text_embeddings[:, i]\n",
      "/tmp/ipykernel_36/2762447381.py:28: PerformanceWarning: DataFrame is highly fragmented.  This is usually the result of calling `frame.insert` many times, which has poor performance.  Consider joining all columns at once using pd.concat(axis=1) instead. To get a de-fragmented frame, use `newframe = frame.copy()`\n",
      "  prog_df[f'emb_{i}'] = text_embeddings[:, i]\n",
      "/tmp/ipykernel_36/2762447381.py:28: PerformanceWarning: DataFrame is highly fragmented.  This is usually the result of calling `frame.insert` many times, which has poor performance.  Consider joining all columns at once using pd.concat(axis=1) instead. To get a de-fragmented frame, use `newframe = frame.copy()`\n",
      "  prog_df[f'emb_{i}'] = text_embeddings[:, i]\n",
      "/tmp/ipykernel_36/2762447381.py:28: PerformanceWarning: DataFrame is highly fragmented.  This is usually the result of calling `frame.insert` many times, which has poor performance.  Consider joining all columns at once using pd.concat(axis=1) instead. To get a de-fragmented frame, use `newframe = frame.copy()`\n",
      "  prog_df[f'emb_{i}'] = text_embeddings[:, i]\n",
      "/tmp/ipykernel_36/2762447381.py:28: PerformanceWarning: DataFrame is highly fragmented.  This is usually the result of calling `frame.insert` many times, which has poor performance.  Consider joining all columns at once using pd.concat(axis=1) instead. To get a de-fragmented frame, use `newframe = frame.copy()`\n",
      "  prog_df[f'emb_{i}'] = text_embeddings[:, i]\n",
      "/tmp/ipykernel_36/2762447381.py:28: PerformanceWarning: DataFrame is highly fragmented.  This is usually the result of calling `frame.insert` many times, which has poor performance.  Consider joining all columns at once using pd.concat(axis=1) instead. To get a de-fragmented frame, use `newframe = frame.copy()`\n",
      "  prog_df[f'emb_{i}'] = text_embeddings[:, i]\n",
      "/tmp/ipykernel_36/2762447381.py:28: PerformanceWarning: DataFrame is highly fragmented.  This is usually the result of calling `frame.insert` many times, which has poor performance.  Consider joining all columns at once using pd.concat(axis=1) instead. To get a de-fragmented frame, use `newframe = frame.copy()`\n",
      "  prog_df[f'emb_{i}'] = text_embeddings[:, i]\n",
      "/tmp/ipykernel_36/2762447381.py:28: PerformanceWarning: DataFrame is highly fragmented.  This is usually the result of calling `frame.insert` many times, which has poor performance.  Consider joining all columns at once using pd.concat(axis=1) instead. To get a de-fragmented frame, use `newframe = frame.copy()`\n",
      "  prog_df[f'emb_{i}'] = text_embeddings[:, i]\n",
      "/tmp/ipykernel_36/2762447381.py:28: PerformanceWarning: DataFrame is highly fragmented.  This is usually the result of calling `frame.insert` many times, which has poor performance.  Consider joining all columns at once using pd.concat(axis=1) instead. To get a de-fragmented frame, use `newframe = frame.copy()`\n",
      "  prog_df[f'emb_{i}'] = text_embeddings[:, i]\n",
      "/tmp/ipykernel_36/2762447381.py:28: PerformanceWarning: DataFrame is highly fragmented.  This is usually the result of calling `frame.insert` many times, which has poor performance.  Consider joining all columns at once using pd.concat(axis=1) instead. To get a de-fragmented frame, use `newframe = frame.copy()`\n",
      "  prog_df[f'emb_{i}'] = text_embeddings[:, i]\n",
      "/tmp/ipykernel_36/2762447381.py:28: PerformanceWarning: DataFrame is highly fragmented.  This is usually the result of calling `frame.insert` many times, which has poor performance.  Consider joining all columns at once using pd.concat(axis=1) instead. To get a de-fragmented frame, use `newframe = frame.copy()`\n",
      "  prog_df[f'emb_{i}'] = text_embeddings[:, i]\n",
      "/tmp/ipykernel_36/2762447381.py:28: PerformanceWarning: DataFrame is highly fragmented.  This is usually the result of calling `frame.insert` many times, which has poor performance.  Consider joining all columns at once using pd.concat(axis=1) instead. To get a de-fragmented frame, use `newframe = frame.copy()`\n",
      "  prog_df[f'emb_{i}'] = text_embeddings[:, i]\n",
      "/tmp/ipykernel_36/2762447381.py:28: PerformanceWarning: DataFrame is highly fragmented.  This is usually the result of calling `frame.insert` many times, which has poor performance.  Consider joining all columns at once using pd.concat(axis=1) instead. To get a de-fragmented frame, use `newframe = frame.copy()`\n",
      "  prog_df[f'emb_{i}'] = text_embeddings[:, i]\n",
      "/tmp/ipykernel_36/2762447381.py:28: PerformanceWarning: DataFrame is highly fragmented.  This is usually the result of calling `frame.insert` many times, which has poor performance.  Consider joining all columns at once using pd.concat(axis=1) instead. To get a de-fragmented frame, use `newframe = frame.copy()`\n",
      "  prog_df[f'emb_{i}'] = text_embeddings[:, i]\n",
      "/tmp/ipykernel_36/2762447381.py:28: PerformanceWarning: DataFrame is highly fragmented.  This is usually the result of calling `frame.insert` many times, which has poor performance.  Consider joining all columns at once using pd.concat(axis=1) instead. To get a de-fragmented frame, use `newframe = frame.copy()`\n",
      "  prog_df[f'emb_{i}'] = text_embeddings[:, i]\n",
      "/tmp/ipykernel_36/2762447381.py:28: PerformanceWarning: DataFrame is highly fragmented.  This is usually the result of calling `frame.insert` many times, which has poor performance.  Consider joining all columns at once using pd.concat(axis=1) instead. To get a de-fragmented frame, use `newframe = frame.copy()`\n",
      "  prog_df[f'emb_{i}'] = text_embeddings[:, i]\n",
      "/tmp/ipykernel_36/2762447381.py:28: PerformanceWarning: DataFrame is highly fragmented.  This is usually the result of calling `frame.insert` many times, which has poor performance.  Consider joining all columns at once using pd.concat(axis=1) instead. To get a de-fragmented frame, use `newframe = frame.copy()`\n",
      "  prog_df[f'emb_{i}'] = text_embeddings[:, i]\n",
      "/tmp/ipykernel_36/2762447381.py:28: PerformanceWarning: DataFrame is highly fragmented.  This is usually the result of calling `frame.insert` many times, which has poor performance.  Consider joining all columns at once using pd.concat(axis=1) instead. To get a de-fragmented frame, use `newframe = frame.copy()`\n",
      "  prog_df[f'emb_{i}'] = text_embeddings[:, i]\n",
      "/tmp/ipykernel_36/2762447381.py:28: PerformanceWarning: DataFrame is highly fragmented.  This is usually the result of calling `frame.insert` many times, which has poor performance.  Consider joining all columns at once using pd.concat(axis=1) instead. To get a de-fragmented frame, use `newframe = frame.copy()`\n",
      "  prog_df[f'emb_{i}'] = text_embeddings[:, i]\n",
      "/tmp/ipykernel_36/2762447381.py:28: PerformanceWarning: DataFrame is highly fragmented.  This is usually the result of calling `frame.insert` many times, which has poor performance.  Consider joining all columns at once using pd.concat(axis=1) instead. To get a de-fragmented frame, use `newframe = frame.copy()`\n",
      "  prog_df[f'emb_{i}'] = text_embeddings[:, i]\n",
      "/tmp/ipykernel_36/2762447381.py:28: PerformanceWarning: DataFrame is highly fragmented.  This is usually the result of calling `frame.insert` many times, which has poor performance.  Consider joining all columns at once using pd.concat(axis=1) instead. To get a de-fragmented frame, use `newframe = frame.copy()`\n",
      "  prog_df[f'emb_{i}'] = text_embeddings[:, i]\n",
      "/tmp/ipykernel_36/2762447381.py:28: PerformanceWarning: DataFrame is highly fragmented.  This is usually the result of calling `frame.insert` many times, which has poor performance.  Consider joining all columns at once using pd.concat(axis=1) instead. To get a de-fragmented frame, use `newframe = frame.copy()`\n",
      "  prog_df[f'emb_{i}'] = text_embeddings[:, i]\n",
      "/tmp/ipykernel_36/2762447381.py:28: PerformanceWarning: DataFrame is highly fragmented.  This is usually the result of calling `frame.insert` many times, which has poor performance.  Consider joining all columns at once using pd.concat(axis=1) instead. To get a de-fragmented frame, use `newframe = frame.copy()`\n",
      "  prog_df[f'emb_{i}'] = text_embeddings[:, i]\n",
      "/tmp/ipykernel_36/2762447381.py:28: PerformanceWarning: DataFrame is highly fragmented.  This is usually the result of calling `frame.insert` many times, which has poor performance.  Consider joining all columns at once using pd.concat(axis=1) instead. To get a de-fragmented frame, use `newframe = frame.copy()`\n",
      "  prog_df[f'emb_{i}'] = text_embeddings[:, i]\n",
      "/tmp/ipykernel_36/2762447381.py:28: PerformanceWarning: DataFrame is highly fragmented.  This is usually the result of calling `frame.insert` many times, which has poor performance.  Consider joining all columns at once using pd.concat(axis=1) instead. To get a de-fragmented frame, use `newframe = frame.copy()`\n",
      "  prog_df[f'emb_{i}'] = text_embeddings[:, i]\n",
      "/tmp/ipykernel_36/2762447381.py:28: PerformanceWarning: DataFrame is highly fragmented.  This is usually the result of calling `frame.insert` many times, which has poor performance.  Consider joining all columns at once using pd.concat(axis=1) instead. To get a de-fragmented frame, use `newframe = frame.copy()`\n",
      "  prog_df[f'emb_{i}'] = text_embeddings[:, i]\n",
      "/tmp/ipykernel_36/2762447381.py:28: PerformanceWarning: DataFrame is highly fragmented.  This is usually the result of calling `frame.insert` many times, which has poor performance.  Consider joining all columns at once using pd.concat(axis=1) instead. To get a de-fragmented frame, use `newframe = frame.copy()`\n",
      "  prog_df[f'emb_{i}'] = text_embeddings[:, i]\n",
      "/tmp/ipykernel_36/2762447381.py:28: PerformanceWarning: DataFrame is highly fragmented.  This is usually the result of calling `frame.insert` many times, which has poor performance.  Consider joining all columns at once using pd.concat(axis=1) instead. To get a de-fragmented frame, use `newframe = frame.copy()`\n",
      "  prog_df[f'emb_{i}'] = text_embeddings[:, i]\n",
      "/tmp/ipykernel_36/2762447381.py:28: PerformanceWarning: DataFrame is highly fragmented.  This is usually the result of calling `frame.insert` many times, which has poor performance.  Consider joining all columns at once using pd.concat(axis=1) instead. To get a de-fragmented frame, use `newframe = frame.copy()`\n",
      "  prog_df[f'emb_{i}'] = text_embeddings[:, i]\n",
      "/tmp/ipykernel_36/2762447381.py:28: PerformanceWarning: DataFrame is highly fragmented.  This is usually the result of calling `frame.insert` many times, which has poor performance.  Consider joining all columns at once using pd.concat(axis=1) instead. To get a de-fragmented frame, use `newframe = frame.copy()`\n",
      "  prog_df[f'emb_{i}'] = text_embeddings[:, i]\n",
      "/tmp/ipykernel_36/2762447381.py:28: PerformanceWarning: DataFrame is highly fragmented.  This is usually the result of calling `frame.insert` many times, which has poor performance.  Consider joining all columns at once using pd.concat(axis=1) instead. To get a de-fragmented frame, use `newframe = frame.copy()`\n",
      "  prog_df[f'emb_{i}'] = text_embeddings[:, i]\n",
      "/tmp/ipykernel_36/2762447381.py:28: PerformanceWarning: DataFrame is highly fragmented.  This is usually the result of calling `frame.insert` many times, which has poor performance.  Consider joining all columns at once using pd.concat(axis=1) instead. To get a de-fragmented frame, use `newframe = frame.copy()`\n",
      "  prog_df[f'emb_{i}'] = text_embeddings[:, i]\n",
      "/tmp/ipykernel_36/2762447381.py:28: PerformanceWarning: DataFrame is highly fragmented.  This is usually the result of calling `frame.insert` many times, which has poor performance.  Consider joining all columns at once using pd.concat(axis=1) instead. To get a de-fragmented frame, use `newframe = frame.copy()`\n",
      "  prog_df[f'emb_{i}'] = text_embeddings[:, i]\n",
      "/tmp/ipykernel_36/2762447381.py:28: PerformanceWarning: DataFrame is highly fragmented.  This is usually the result of calling `frame.insert` many times, which has poor performance.  Consider joining all columns at once using pd.concat(axis=1) instead. To get a de-fragmented frame, use `newframe = frame.copy()`\n",
      "  prog_df[f'emb_{i}'] = text_embeddings[:, i]\n",
      "/tmp/ipykernel_36/2762447381.py:28: PerformanceWarning: DataFrame is highly fragmented.  This is usually the result of calling `frame.insert` many times, which has poor performance.  Consider joining all columns at once using pd.concat(axis=1) instead. To get a de-fragmented frame, use `newframe = frame.copy()`\n",
      "  prog_df[f'emb_{i}'] = text_embeddings[:, i]\n",
      "/tmp/ipykernel_36/2762447381.py:28: PerformanceWarning: DataFrame is highly fragmented.  This is usually the result of calling `frame.insert` many times, which has poor performance.  Consider joining all columns at once using pd.concat(axis=1) instead. To get a de-fragmented frame, use `newframe = frame.copy()`\n",
      "  prog_df[f'emb_{i}'] = text_embeddings[:, i]\n",
      "/tmp/ipykernel_36/2762447381.py:28: PerformanceWarning: DataFrame is highly fragmented.  This is usually the result of calling `frame.insert` many times, which has poor performance.  Consider joining all columns at once using pd.concat(axis=1) instead. To get a de-fragmented frame, use `newframe = frame.copy()`\n",
      "  prog_df[f'emb_{i}'] = text_embeddings[:, i]\n",
      "/tmp/ipykernel_36/2762447381.py:28: PerformanceWarning: DataFrame is highly fragmented.  This is usually the result of calling `frame.insert` many times, which has poor performance.  Consider joining all columns at once using pd.concat(axis=1) instead. To get a de-fragmented frame, use `newframe = frame.copy()`\n",
      "  prog_df[f'emb_{i}'] = text_embeddings[:, i]\n",
      "/tmp/ipykernel_36/2762447381.py:28: PerformanceWarning: DataFrame is highly fragmented.  This is usually the result of calling `frame.insert` many times, which has poor performance.  Consider joining all columns at once using pd.concat(axis=1) instead. To get a de-fragmented frame, use `newframe = frame.copy()`\n",
      "  prog_df[f'emb_{i}'] = text_embeddings[:, i]\n",
      "/tmp/ipykernel_36/2762447381.py:28: PerformanceWarning: DataFrame is highly fragmented.  This is usually the result of calling `frame.insert` many times, which has poor performance.  Consider joining all columns at once using pd.concat(axis=1) instead. To get a de-fragmented frame, use `newframe = frame.copy()`\n",
      "  prog_df[f'emb_{i}'] = text_embeddings[:, i]\n",
      "/tmp/ipykernel_36/2762447381.py:28: PerformanceWarning: DataFrame is highly fragmented.  This is usually the result of calling `frame.insert` many times, which has poor performance.  Consider joining all columns at once using pd.concat(axis=1) instead. To get a de-fragmented frame, use `newframe = frame.copy()`\n",
      "  prog_df[f'emb_{i}'] = text_embeddings[:, i]\n",
      "/tmp/ipykernel_36/2762447381.py:28: PerformanceWarning: DataFrame is highly fragmented.  This is usually the result of calling `frame.insert` many times, which has poor performance.  Consider joining all columns at once using pd.concat(axis=1) instead. To get a de-fragmented frame, use `newframe = frame.copy()`\n",
      "  prog_df[f'emb_{i}'] = text_embeddings[:, i]\n",
      "/tmp/ipykernel_36/2762447381.py:28: PerformanceWarning: DataFrame is highly fragmented.  This is usually the result of calling `frame.insert` many times, which has poor performance.  Consider joining all columns at once using pd.concat(axis=1) instead. To get a de-fragmented frame, use `newframe = frame.copy()`\n",
      "  prog_df[f'emb_{i}'] = text_embeddings[:, i]\n",
      "/tmp/ipykernel_36/2762447381.py:28: PerformanceWarning: DataFrame is highly fragmented.  This is usually the result of calling `frame.insert` many times, which has poor performance.  Consider joining all columns at once using pd.concat(axis=1) instead. To get a de-fragmented frame, use `newframe = frame.copy()`\n",
      "  prog_df[f'emb_{i}'] = text_embeddings[:, i]\n",
      "/tmp/ipykernel_36/2762447381.py:28: PerformanceWarning: DataFrame is highly fragmented.  This is usually the result of calling `frame.insert` many times, which has poor performance.  Consider joining all columns at once using pd.concat(axis=1) instead. To get a de-fragmented frame, use `newframe = frame.copy()`\n",
      "  prog_df[f'emb_{i}'] = text_embeddings[:, i]\n",
      "/tmp/ipykernel_36/2762447381.py:28: PerformanceWarning: DataFrame is highly fragmented.  This is usually the result of calling `frame.insert` many times, which has poor performance.  Consider joining all columns at once using pd.concat(axis=1) instead. To get a de-fragmented frame, use `newframe = frame.copy()`\n",
      "  prog_df[f'emb_{i}'] = text_embeddings[:, i]\n",
      "/tmp/ipykernel_36/2762447381.py:28: PerformanceWarning: DataFrame is highly fragmented.  This is usually the result of calling `frame.insert` many times, which has poor performance.  Consider joining all columns at once using pd.concat(axis=1) instead. To get a de-fragmented frame, use `newframe = frame.copy()`\n",
      "  prog_df[f'emb_{i}'] = text_embeddings[:, i]\n",
      "/tmp/ipykernel_36/2762447381.py:28: PerformanceWarning: DataFrame is highly fragmented.  This is usually the result of calling `frame.insert` many times, which has poor performance.  Consider joining all columns at once using pd.concat(axis=1) instead. To get a de-fragmented frame, use `newframe = frame.copy()`\n",
      "  prog_df[f'emb_{i}'] = text_embeddings[:, i]\n",
      "/tmp/ipykernel_36/2762447381.py:28: PerformanceWarning: DataFrame is highly fragmented.  This is usually the result of calling `frame.insert` many times, which has poor performance.  Consider joining all columns at once using pd.concat(axis=1) instead. To get a de-fragmented frame, use `newframe = frame.copy()`\n",
      "  prog_df[f'emb_{i}'] = text_embeddings[:, i]\n",
      "/tmp/ipykernel_36/2762447381.py:28: PerformanceWarning: DataFrame is highly fragmented.  This is usually the result of calling `frame.insert` many times, which has poor performance.  Consider joining all columns at once using pd.concat(axis=1) instead. To get a de-fragmented frame, use `newframe = frame.copy()`\n",
      "  prog_df[f'emb_{i}'] = text_embeddings[:, i]\n",
      "/tmp/ipykernel_36/2762447381.py:28: PerformanceWarning: DataFrame is highly fragmented.  This is usually the result of calling `frame.insert` many times, which has poor performance.  Consider joining all columns at once using pd.concat(axis=1) instead. To get a de-fragmented frame, use `newframe = frame.copy()`\n",
      "  prog_df[f'emb_{i}'] = text_embeddings[:, i]\n",
      "/tmp/ipykernel_36/2762447381.py:28: PerformanceWarning: DataFrame is highly fragmented.  This is usually the result of calling `frame.insert` many times, which has poor performance.  Consider joining all columns at once using pd.concat(axis=1) instead. To get a de-fragmented frame, use `newframe = frame.copy()`\n",
      "  prog_df[f'emb_{i}'] = text_embeddings[:, i]\n",
      "/tmp/ipykernel_36/2762447381.py:28: PerformanceWarning: DataFrame is highly fragmented.  This is usually the result of calling `frame.insert` many times, which has poor performance.  Consider joining all columns at once using pd.concat(axis=1) instead. To get a de-fragmented frame, use `newframe = frame.copy()`\n",
      "  prog_df[f'emb_{i}'] = text_embeddings[:, i]\n",
      "/tmp/ipykernel_36/2762447381.py:28: PerformanceWarning: DataFrame is highly fragmented.  This is usually the result of calling `frame.insert` many times, which has poor performance.  Consider joining all columns at once using pd.concat(axis=1) instead. To get a de-fragmented frame, use `newframe = frame.copy()`\n",
      "  prog_df[f'emb_{i}'] = text_embeddings[:, i]\n",
      "/tmp/ipykernel_36/2762447381.py:28: PerformanceWarning: DataFrame is highly fragmented.  This is usually the result of calling `frame.insert` many times, which has poor performance.  Consider joining all columns at once using pd.concat(axis=1) instead. To get a de-fragmented frame, use `newframe = frame.copy()`\n",
      "  prog_df[f'emb_{i}'] = text_embeddings[:, i]\n",
      "/tmp/ipykernel_36/2762447381.py:28: PerformanceWarning: DataFrame is highly fragmented.  This is usually the result of calling `frame.insert` many times, which has poor performance.  Consider joining all columns at once using pd.concat(axis=1) instead. To get a de-fragmented frame, use `newframe = frame.copy()`\n",
      "  prog_df[f'emb_{i}'] = text_embeddings[:, i]\n",
      "/tmp/ipykernel_36/2762447381.py:28: PerformanceWarning: DataFrame is highly fragmented.  This is usually the result of calling `frame.insert` many times, which has poor performance.  Consider joining all columns at once using pd.concat(axis=1) instead. To get a de-fragmented frame, use `newframe = frame.copy()`\n",
      "  prog_df[f'emb_{i}'] = text_embeddings[:, i]\n",
      "/tmp/ipykernel_36/2762447381.py:28: PerformanceWarning: DataFrame is highly fragmented.  This is usually the result of calling `frame.insert` many times, which has poor performance.  Consider joining all columns at once using pd.concat(axis=1) instead. To get a de-fragmented frame, use `newframe = frame.copy()`\n",
      "  prog_df[f'emb_{i}'] = text_embeddings[:, i]\n",
      "/tmp/ipykernel_36/2762447381.py:28: PerformanceWarning: DataFrame is highly fragmented.  This is usually the result of calling `frame.insert` many times, which has poor performance.  Consider joining all columns at once using pd.concat(axis=1) instead. To get a de-fragmented frame, use `newframe = frame.copy()`\n",
      "  prog_df[f'emb_{i}'] = text_embeddings[:, i]\n",
      "/tmp/ipykernel_36/2762447381.py:28: PerformanceWarning: DataFrame is highly fragmented.  This is usually the result of calling `frame.insert` many times, which has poor performance.  Consider joining all columns at once using pd.concat(axis=1) instead. To get a de-fragmented frame, use `newframe = frame.copy()`\n",
      "  prog_df[f'emb_{i}'] = text_embeddings[:, i]\n",
      "/tmp/ipykernel_36/2762447381.py:28: PerformanceWarning: DataFrame is highly fragmented.  This is usually the result of calling `frame.insert` many times, which has poor performance.  Consider joining all columns at once using pd.concat(axis=1) instead. To get a de-fragmented frame, use `newframe = frame.copy()`\n",
      "  prog_df[f'emb_{i}'] = text_embeddings[:, i]\n",
      "/tmp/ipykernel_36/2762447381.py:28: PerformanceWarning: DataFrame is highly fragmented.  This is usually the result of calling `frame.insert` many times, which has poor performance.  Consider joining all columns at once using pd.concat(axis=1) instead. To get a de-fragmented frame, use `newframe = frame.copy()`\n",
      "  prog_df[f'emb_{i}'] = text_embeddings[:, i]\n",
      "/tmp/ipykernel_36/2762447381.py:28: PerformanceWarning: DataFrame is highly fragmented.  This is usually the result of calling `frame.insert` many times, which has poor performance.  Consider joining all columns at once using pd.concat(axis=1) instead. To get a de-fragmented frame, use `newframe = frame.copy()`\n",
      "  prog_df[f'emb_{i}'] = text_embeddings[:, i]\n",
      "/tmp/ipykernel_36/2762447381.py:28: PerformanceWarning: DataFrame is highly fragmented.  This is usually the result of calling `frame.insert` many times, which has poor performance.  Consider joining all columns at once using pd.concat(axis=1) instead. To get a de-fragmented frame, use `newframe = frame.copy()`\n",
      "  prog_df[f'emb_{i}'] = text_embeddings[:, i]\n",
      "/tmp/ipykernel_36/2762447381.py:28: PerformanceWarning: DataFrame is highly fragmented.  This is usually the result of calling `frame.insert` many times, which has poor performance.  Consider joining all columns at once using pd.concat(axis=1) instead. To get a de-fragmented frame, use `newframe = frame.copy()`\n",
      "  prog_df[f'emb_{i}'] = text_embeddings[:, i]\n",
      "/tmp/ipykernel_36/2762447381.py:28: PerformanceWarning: DataFrame is highly fragmented.  This is usually the result of calling `frame.insert` many times, which has poor performance.  Consider joining all columns at once using pd.concat(axis=1) instead. To get a de-fragmented frame, use `newframe = frame.copy()`\n",
      "  prog_df[f'emb_{i}'] = text_embeddings[:, i]\n",
      "/tmp/ipykernel_36/2762447381.py:28: PerformanceWarning: DataFrame is highly fragmented.  This is usually the result of calling `frame.insert` many times, which has poor performance.  Consider joining all columns at once using pd.concat(axis=1) instead. To get a de-fragmented frame, use `newframe = frame.copy()`\n",
      "  prog_df[f'emb_{i}'] = text_embeddings[:, i]\n",
      "/tmp/ipykernel_36/2762447381.py:28: PerformanceWarning: DataFrame is highly fragmented.  This is usually the result of calling `frame.insert` many times, which has poor performance.  Consider joining all columns at once using pd.concat(axis=1) instead. To get a de-fragmented frame, use `newframe = frame.copy()`\n",
      "  prog_df[f'emb_{i}'] = text_embeddings[:, i]\n",
      "/tmp/ipykernel_36/2762447381.py:28: PerformanceWarning: DataFrame is highly fragmented.  This is usually the result of calling `frame.insert` many times, which has poor performance.  Consider joining all columns at once using pd.concat(axis=1) instead. To get a de-fragmented frame, use `newframe = frame.copy()`\n",
      "  prog_df[f'emb_{i}'] = text_embeddings[:, i]\n",
      "/tmp/ipykernel_36/2762447381.py:28: PerformanceWarning: DataFrame is highly fragmented.  This is usually the result of calling `frame.insert` many times, which has poor performance.  Consider joining all columns at once using pd.concat(axis=1) instead. To get a de-fragmented frame, use `newframe = frame.copy()`\n",
      "  prog_df[f'emb_{i}'] = text_embeddings[:, i]\n",
      "/tmp/ipykernel_36/2762447381.py:28: PerformanceWarning: DataFrame is highly fragmented.  This is usually the result of calling `frame.insert` many times, which has poor performance.  Consider joining all columns at once using pd.concat(axis=1) instead. To get a de-fragmented frame, use `newframe = frame.copy()`\n",
      "  prog_df[f'emb_{i}'] = text_embeddings[:, i]\n",
      "/tmp/ipykernel_36/2762447381.py:28: PerformanceWarning: DataFrame is highly fragmented.  This is usually the result of calling `frame.insert` many times, which has poor performance.  Consider joining all columns at once using pd.concat(axis=1) instead. To get a de-fragmented frame, use `newframe = frame.copy()`\n",
      "  prog_df[f'emb_{i}'] = text_embeddings[:, i]\n",
      "/tmp/ipykernel_36/2762447381.py:28: PerformanceWarning: DataFrame is highly fragmented.  This is usually the result of calling `frame.insert` many times, which has poor performance.  Consider joining all columns at once using pd.concat(axis=1) instead. To get a de-fragmented frame, use `newframe = frame.copy()`\n",
      "  prog_df[f'emb_{i}'] = text_embeddings[:, i]\n",
      "/tmp/ipykernel_36/2762447381.py:28: PerformanceWarning: DataFrame is highly fragmented.  This is usually the result of calling `frame.insert` many times, which has poor performance.  Consider joining all columns at once using pd.concat(axis=1) instead. To get a de-fragmented frame, use `newframe = frame.copy()`\n",
      "  prog_df[f'emb_{i}'] = text_embeddings[:, i]\n",
      "/tmp/ipykernel_36/2762447381.py:28: PerformanceWarning: DataFrame is highly fragmented.  This is usually the result of calling `frame.insert` many times, which has poor performance.  Consider joining all columns at once using pd.concat(axis=1) instead. To get a de-fragmented frame, use `newframe = frame.copy()`\n",
      "  prog_df[f'emb_{i}'] = text_embeddings[:, i]\n",
      "/tmp/ipykernel_36/2762447381.py:28: PerformanceWarning: DataFrame is highly fragmented.  This is usually the result of calling `frame.insert` many times, which has poor performance.  Consider joining all columns at once using pd.concat(axis=1) instead. To get a de-fragmented frame, use `newframe = frame.copy()`\n",
      "  prog_df[f'emb_{i}'] = text_embeddings[:, i]\n",
      "/tmp/ipykernel_36/2762447381.py:28: PerformanceWarning: DataFrame is highly fragmented.  This is usually the result of calling `frame.insert` many times, which has poor performance.  Consider joining all columns at once using pd.concat(axis=1) instead. To get a de-fragmented frame, use `newframe = frame.copy()`\n",
      "  prog_df[f'emb_{i}'] = text_embeddings[:, i]\n",
      "/tmp/ipykernel_36/2762447381.py:28: PerformanceWarning: DataFrame is highly fragmented.  This is usually the result of calling `frame.insert` many times, which has poor performance.  Consider joining all columns at once using pd.concat(axis=1) instead. To get a de-fragmented frame, use `newframe = frame.copy()`\n",
      "  prog_df[f'emb_{i}'] = text_embeddings[:, i]\n",
      "/tmp/ipykernel_36/2762447381.py:28: PerformanceWarning: DataFrame is highly fragmented.  This is usually the result of calling `frame.insert` many times, which has poor performance.  Consider joining all columns at once using pd.concat(axis=1) instead. To get a de-fragmented frame, use `newframe = frame.copy()`\n",
      "  prog_df[f'emb_{i}'] = text_embeddings[:, i]\n",
      "/tmp/ipykernel_36/2762447381.py:28: PerformanceWarning: DataFrame is highly fragmented.  This is usually the result of calling `frame.insert` many times, which has poor performance.  Consider joining all columns at once using pd.concat(axis=1) instead. To get a de-fragmented frame, use `newframe = frame.copy()`\n",
      "  prog_df[f'emb_{i}'] = text_embeddings[:, i]\n",
      "/tmp/ipykernel_36/2762447381.py:28: PerformanceWarning: DataFrame is highly fragmented.  This is usually the result of calling `frame.insert` many times, which has poor performance.  Consider joining all columns at once using pd.concat(axis=1) instead. To get a de-fragmented frame, use `newframe = frame.copy()`\n",
      "  prog_df[f'emb_{i}'] = text_embeddings[:, i]\n",
      "/tmp/ipykernel_36/2762447381.py:28: PerformanceWarning: DataFrame is highly fragmented.  This is usually the result of calling `frame.insert` many times, which has poor performance.  Consider joining all columns at once using pd.concat(axis=1) instead. To get a de-fragmented frame, use `newframe = frame.copy()`\n",
      "  prog_df[f'emb_{i}'] = text_embeddings[:, i]\n",
      "/tmp/ipykernel_36/2762447381.py:28: PerformanceWarning: DataFrame is highly fragmented.  This is usually the result of calling `frame.insert` many times, which has poor performance.  Consider joining all columns at once using pd.concat(axis=1) instead. To get a de-fragmented frame, use `newframe = frame.copy()`\n",
      "  prog_df[f'emb_{i}'] = text_embeddings[:, i]\n",
      "/tmp/ipykernel_36/2762447381.py:28: PerformanceWarning: DataFrame is highly fragmented.  This is usually the result of calling `frame.insert` many times, which has poor performance.  Consider joining all columns at once using pd.concat(axis=1) instead. To get a de-fragmented frame, use `newframe = frame.copy()`\n",
      "  prog_df[f'emb_{i}'] = text_embeddings[:, i]\n",
      "/tmp/ipykernel_36/2762447381.py:28: PerformanceWarning: DataFrame is highly fragmented.  This is usually the result of calling `frame.insert` many times, which has poor performance.  Consider joining all columns at once using pd.concat(axis=1) instead. To get a de-fragmented frame, use `newframe = frame.copy()`\n",
      "  prog_df[f'emb_{i}'] = text_embeddings[:, i]\n",
      "/tmp/ipykernel_36/2762447381.py:28: PerformanceWarning: DataFrame is highly fragmented.  This is usually the result of calling `frame.insert` many times, which has poor performance.  Consider joining all columns at once using pd.concat(axis=1) instead. To get a de-fragmented frame, use `newframe = frame.copy()`\n",
      "  prog_df[f'emb_{i}'] = text_embeddings[:, i]\n",
      "/tmp/ipykernel_36/2762447381.py:28: PerformanceWarning: DataFrame is highly fragmented.  This is usually the result of calling `frame.insert` many times, which has poor performance.  Consider joining all columns at once using pd.concat(axis=1) instead. To get a de-fragmented frame, use `newframe = frame.copy()`\n",
      "  prog_df[f'emb_{i}'] = text_embeddings[:, i]\n",
      "/tmp/ipykernel_36/2762447381.py:28: PerformanceWarning: DataFrame is highly fragmented.  This is usually the result of calling `frame.insert` many times, which has poor performance.  Consider joining all columns at once using pd.concat(axis=1) instead. To get a de-fragmented frame, use `newframe = frame.copy()`\n",
      "  prog_df[f'emb_{i}'] = text_embeddings[:, i]\n",
      "/tmp/ipykernel_36/2762447381.py:28: PerformanceWarning: DataFrame is highly fragmented.  This is usually the result of calling `frame.insert` many times, which has poor performance.  Consider joining all columns at once using pd.concat(axis=1) instead. To get a de-fragmented frame, use `newframe = frame.copy()`\n",
      "  prog_df[f'emb_{i}'] = text_embeddings[:, i]\n",
      "/tmp/ipykernel_36/2762447381.py:28: PerformanceWarning: DataFrame is highly fragmented.  This is usually the result of calling `frame.insert` many times, which has poor performance.  Consider joining all columns at once using pd.concat(axis=1) instead. To get a de-fragmented frame, use `newframe = frame.copy()`\n",
      "  prog_df[f'emb_{i}'] = text_embeddings[:, i]\n",
      "/tmp/ipykernel_36/2762447381.py:28: PerformanceWarning: DataFrame is highly fragmented.  This is usually the result of calling `frame.insert` many times, which has poor performance.  Consider joining all columns at once using pd.concat(axis=1) instead. To get a de-fragmented frame, use `newframe = frame.copy()`\n",
      "  prog_df[f'emb_{i}'] = text_embeddings[:, i]\n",
      "/tmp/ipykernel_36/2762447381.py:28: PerformanceWarning: DataFrame is highly fragmented.  This is usually the result of calling `frame.insert` many times, which has poor performance.  Consider joining all columns at once using pd.concat(axis=1) instead. To get a de-fragmented frame, use `newframe = frame.copy()`\n",
      "  prog_df[f'emb_{i}'] = text_embeddings[:, i]\n",
      "/tmp/ipykernel_36/2762447381.py:28: PerformanceWarning: DataFrame is highly fragmented.  This is usually the result of calling `frame.insert` many times, which has poor performance.  Consider joining all columns at once using pd.concat(axis=1) instead. To get a de-fragmented frame, use `newframe = frame.copy()`\n",
      "  prog_df[f'emb_{i}'] = text_embeddings[:, i]\n",
      "/tmp/ipykernel_36/2762447381.py:28: PerformanceWarning: DataFrame is highly fragmented.  This is usually the result of calling `frame.insert` many times, which has poor performance.  Consider joining all columns at once using pd.concat(axis=1) instead. To get a de-fragmented frame, use `newframe = frame.copy()`\n",
      "  prog_df[f'emb_{i}'] = text_embeddings[:, i]\n",
      "/tmp/ipykernel_36/2762447381.py:28: PerformanceWarning: DataFrame is highly fragmented.  This is usually the result of calling `frame.insert` many times, which has poor performance.  Consider joining all columns at once using pd.concat(axis=1) instead. To get a de-fragmented frame, use `newframe = frame.copy()`\n",
      "  prog_df[f'emb_{i}'] = text_embeddings[:, i]\n",
      "/tmp/ipykernel_36/2762447381.py:28: PerformanceWarning: DataFrame is highly fragmented.  This is usually the result of calling `frame.insert` many times, which has poor performance.  Consider joining all columns at once using pd.concat(axis=1) instead. To get a de-fragmented frame, use `newframe = frame.copy()`\n",
      "  prog_df[f'emb_{i}'] = text_embeddings[:, i]\n",
      "/tmp/ipykernel_36/2762447381.py:28: PerformanceWarning: DataFrame is highly fragmented.  This is usually the result of calling `frame.insert` many times, which has poor performance.  Consider joining all columns at once using pd.concat(axis=1) instead. To get a de-fragmented frame, use `newframe = frame.copy()`\n",
      "  prog_df[f'emb_{i}'] = text_embeddings[:, i]\n",
      "/tmp/ipykernel_36/2762447381.py:28: PerformanceWarning: DataFrame is highly fragmented.  This is usually the result of calling `frame.insert` many times, which has poor performance.  Consider joining all columns at once using pd.concat(axis=1) instead. To get a de-fragmented frame, use `newframe = frame.copy()`\n",
      "  prog_df[f'emb_{i}'] = text_embeddings[:, i]\n",
      "/tmp/ipykernel_36/2762447381.py:28: PerformanceWarning: DataFrame is highly fragmented.  This is usually the result of calling `frame.insert` many times, which has poor performance.  Consider joining all columns at once using pd.concat(axis=1) instead. To get a de-fragmented frame, use `newframe = frame.copy()`\n",
      "  prog_df[f'emb_{i}'] = text_embeddings[:, i]\n",
      "/tmp/ipykernel_36/2762447381.py:28: PerformanceWarning: DataFrame is highly fragmented.  This is usually the result of calling `frame.insert` many times, which has poor performance.  Consider joining all columns at once using pd.concat(axis=1) instead. To get a de-fragmented frame, use `newframe = frame.copy()`\n",
      "  prog_df[f'emb_{i}'] = text_embeddings[:, i]\n",
      "/tmp/ipykernel_36/2762447381.py:28: PerformanceWarning: DataFrame is highly fragmented.  This is usually the result of calling `frame.insert` many times, which has poor performance.  Consider joining all columns at once using pd.concat(axis=1) instead. To get a de-fragmented frame, use `newframe = frame.copy()`\n",
      "  prog_df[f'emb_{i}'] = text_embeddings[:, i]\n",
      "/tmp/ipykernel_36/2762447381.py:28: PerformanceWarning: DataFrame is highly fragmented.  This is usually the result of calling `frame.insert` many times, which has poor performance.  Consider joining all columns at once using pd.concat(axis=1) instead. To get a de-fragmented frame, use `newframe = frame.copy()`\n",
      "  prog_df[f'emb_{i}'] = text_embeddings[:, i]\n",
      "/tmp/ipykernel_36/2762447381.py:28: PerformanceWarning: DataFrame is highly fragmented.  This is usually the result of calling `frame.insert` many times, which has poor performance.  Consider joining all columns at once using pd.concat(axis=1) instead. To get a de-fragmented frame, use `newframe = frame.copy()`\n",
      "  prog_df[f'emb_{i}'] = text_embeddings[:, i]\n",
      "/tmp/ipykernel_36/2762447381.py:28: PerformanceWarning: DataFrame is highly fragmented.  This is usually the result of calling `frame.insert` many times, which has poor performance.  Consider joining all columns at once using pd.concat(axis=1) instead. To get a de-fragmented frame, use `newframe = frame.copy()`\n",
      "  prog_df[f'emb_{i}'] = text_embeddings[:, i]\n"
     ]
    },
    {
     "name": "stdout",
     "output_type": "stream",
     "text": [
      "Feature matrix shape: (2598, 389)\n"
     ]
    }
   ],
   "source": [
    "from sklearn.preprocessing import LabelEncoder\n",
    "from sentence_transformers import SentenceTransformer\n",
    "import torch\n",
    "\n",
    "# --- Encode metadata ---\n",
    "for col in ['goal', 'level', 'equipment']:\n",
    "    le = LabelEncoder()\n",
    "    prog_df[col + '_enc'] = le.fit_transform(prog_df[col])\n",
    "\n",
    "# --- Text embeddings ---\n",
    "model = SentenceTransformer('all-MiniLM-L6-v2', device='cuda' if torch.cuda.is_available() else 'cpu')\n",
    "\n",
    "# Compute embeddings in batches for efficiency\n",
    "batch_texts = prog_df['text_input'].tolist()\n",
    "batch_size = 128\n",
    "text_embeddings = []\n",
    "\n",
    "for i in range(0, len(batch_texts), batch_size):\n",
    "    batch = batch_texts[i:i + batch_size]\n",
    "    emb = model.encode(batch, show_progress_bar=True)\n",
    "    text_embeddings.append(emb)\n",
    "\n",
    "# Combine batches\n",
    "text_embeddings = np.vstack(text_embeddings)\n",
    "\n",
    "# Add embeddings to DataFrame\n",
    "for i in range(text_embeddings.shape[1]):\n",
    "    prog_df[f'emb_{i}'] = text_embeddings[:, i]\n",
    "\n",
    "# Final feature columns\n",
    "metadata_cols = ['goal_enc', 'level_enc', 'equipment_enc', 'program_length', 'time_per_workout']\n",
    "embedding_cols = [f'emb_{i}' for i in range(text_embeddings.shape[1])]\n",
    "all_features = metadata_cols + embedding_cols\n",
    "\n",
    "print(\"Feature matrix shape:\", prog_df[all_features].shape)"
   ]
  },
  {
   "cell_type": "markdown",
   "metadata": {},
   "source": [
    "# 👥 KMeans Clustering for User Interest Simulation\n",
    "We’ll:\n",
    "\n",
    "1. Fit KMeans on the 389-dimensional feature matrix\n",
    "\n",
    "2. Assign each program a cluster_id\n",
    "\n",
    "3. Simulate users by assuming each cluster represents a set of preferences"
   ]
  },
  {
   "cell_type": "code",
   "execution_count": 4,
   "metadata": {
    "execution": {
     "iopub.execute_input": "2025-07-27T13:32:17.952201Z",
     "iopub.status.busy": "2025-07-27T13:32:17.951919Z",
     "iopub.status.idle": "2025-07-27T13:32:19.137909Z",
     "shell.execute_reply": "2025-07-27T13:32:19.137152Z",
     "shell.execute_reply.started": "2025-07-27T13:32:17.952181Z"
    },
    "trusted": true
   },
   "outputs": [
    {
     "name": "stderr",
     "output_type": "stream",
     "text": [
      "/tmp/ipykernel_36/766291445.py:14: PerformanceWarning: DataFrame is highly fragmented.  This is usually the result of calling `frame.insert` many times, which has poor performance.  Consider joining all columns at once using pd.concat(axis=1) instead. To get a de-fragmented frame, use `newframe = frame.copy()`\n",
      "  prog_df['cluster_id'] = kmeans.fit_predict(features_clean)\n",
      "/tmp/ipykernel_36/766291445.py:19: PerformanceWarning: DataFrame is highly fragmented.  This is usually the result of calling `frame.insert` many times, which has poor performance.  Consider joining all columns at once using pd.concat(axis=1) instead. To get a de-fragmented frame, use `newframe = frame.copy()`\n",
      "  prog_df['pca1'], prog_df['pca2'] = proj[:, 0], proj[:, 1]\n",
      "/tmp/ipykernel_36/766291445.py:19: PerformanceWarning: DataFrame is highly fragmented.  This is usually the result of calling `frame.insert` many times, which has poor performance.  Consider joining all columns at once using pd.concat(axis=1) instead. To get a de-fragmented frame, use `newframe = frame.copy()`\n",
      "  prog_df['pca1'], prog_df['pca2'] = proj[:, 0], proj[:, 1]\n"
     ]
    },
    {
     "data": {
      "image/png": "[encoded data removed]",
      "text/plain": [
       "<Figure size 1000x600 with 1 Axes>"
      ]
     },
     "metadata": {},
     "output_type": "display_data"
    }
   ],
   "source": [
    "from sklearn.impute import SimpleImputer\n",
    "from sklearn.cluster import KMeans\n",
    "from sklearn.decomposition import PCA\n",
    "import matplotlib.pyplot as plt\n",
    "import seaborn as sns\n",
    "\n",
    "# Impute missing values\n",
    "imputer = SimpleImputer(strategy='mean')\n",
    "features_clean = imputer.fit_transform(prog_df[all_features])\n",
    "\n",
    "# Fit KMeans clustering\n",
    "NUM_CLUSTERS = 25\n",
    "kmeans = KMeans(n_clusters=NUM_CLUSTERS, random_state=42, n_init='auto')\n",
    "prog_df['cluster_id'] = kmeans.fit_predict(features_clean)\n",
    "\n",
    "# PCA for visualization\n",
    "pca = PCA(n_components=2)\n",
    "proj = pca.fit_transform(features_clean)\n",
    "prog_df['pca1'], prog_df['pca2'] = proj[:, 0], proj[:, 1]\n",
    "\n",
    "# Plot\n",
    "plt.figure(figsize=(10, 6))\n",
    "sns.scatterplot(data=prog_df, x='pca1', y='pca2', hue='cluster_id', palette='tab20', legend=False)\n",
    "plt.title('Program Clusters via KMeans + PCA')\n",
    "plt.show()"
   ]
  },
  {
   "cell_type": "markdown",
   "metadata": {},
   "source": [
    "# 🔁 Step 4: Building the Recommendation Engine\n",
    "\n",
    "We'll now create:\n",
    "\n",
    "1. A similarity-based recommender using cosine similarity over features\n",
    "\n",
    "2. Cluster-aware filtering to boost personalization\n",
    "\n",
    "3. A top-N recommendation function based on a user’s cluster or metadata"
   ]
  },
  {
   "cell_type": "markdown",
   "metadata": {},
   "source": [
    "# 🔧 Cosine Similarity Based Recommender"
   ]
  },
  {
   "cell_type": "code",
   "execution_count": 5,
   "metadata": {
    "execution": {
     "iopub.execute_input": "2025-07-27T13:32:19.139931Z",
     "iopub.status.busy": "2025-07-27T13:32:19.138754Z",
     "iopub.status.idle": "2025-07-27T13:32:19.231811Z",
     "shell.execute_reply": "2025-07-27T13:32:19.231238Z",
     "shell.execute_reply.started": "2025-07-27T13:32:19.139900Z"
    },
    "trusted": true
   },
   "outputs": [
    {
     "name": "stdout",
     "output_type": "stream",
     "text": [
      "🔍 Based on: 4-Day PowerLifter\n"
     ]
    },
    {
     "data": {
      "text/html": [
       "<div>\n",
       "<style scoped>\n",
       "    .dataframe tbody tr th:only-of-type {\n",
       "        vertical-align: middle;\n",
       "    }\n",
       "\n",
       "    .dataframe tbody tr th {\n",
       "        vertical-align: top;\n",
       "    }\n",
       "\n",
       "    .dataframe thead th {\n",
       "        text-align: right;\n",
       "    }\n",
       "</style>\n",
       "<table border=\"1\" class=\"dataframe\">\n",
       "  <thead>\n",
       "    <tr style=\"text-align: right;\">\n",
       "      <th></th>\n",
       "      <th>title</th>\n",
       "      <th>goal</th>\n",
       "      <th>level</th>\n",
       "      <th>equipment</th>\n",
       "      <th>text_input</th>\n",
       "      <th>cluster_id</th>\n",
       "    </tr>\n",
       "  </thead>\n",
       "  <tbody>\n",
       "    <tr>\n",
       "      <th>1169</th>\n",
       "      <td>Hypertrophy biased powerbuilding phase</td>\n",
       "      <td>['bodybuilding', 'muscle &amp; sculpting']</td>\n",
       "      <td>['novice', 'beginner']</td>\n",
       "      <td>full gym</td>\n",
       "      <td>hypertrophy biased powerbuilding phase powerbu...</td>\n",
       "      <td>23</td>\n",
       "    </tr>\n",
       "    <tr>\n",
       "      <th>2252</th>\n",
       "      <td>The Regimen p/p/l</td>\n",
       "      <td>['bodybuilding', 'muscle &amp; sculpting']</td>\n",
       "      <td>['novice', 'beginner']</td>\n",
       "      <td>full gym</td>\n",
       "      <td>the regimen ppl to increase musculature bench ...</td>\n",
       "      <td>23</td>\n",
       "    </tr>\n",
       "    <tr>\n",
       "      <th>710</th>\n",
       "      <td>DDXYZ 3 DAY SPLIT</td>\n",
       "      <td>['bodybuilding', 'muscle &amp; sculpting']</td>\n",
       "      <td>['novice', 'beginner']</td>\n",
       "      <td>full gym</td>\n",
       "      <td>ddxyz 3 day split simple bench press smith mac...</td>\n",
       "      <td>23</td>\n",
       "    </tr>\n",
       "    <tr>\n",
       "      <th>299</th>\n",
       "      <td>Ahmad’s 10 week Powerbuilding Program.</td>\n",
       "      <td>['bodybuilding', 'muscle &amp; sculpting']</td>\n",
       "      <td>['novice', 'beginner']</td>\n",
       "      <td>full gym</td>\n",
       "      <td>ahmads 10 week powerbuilding program the progr...</td>\n",
       "      <td>23</td>\n",
       "    </tr>\n",
       "    <tr>\n",
       "      <th>1250</th>\n",
       "      <td>Jensen Ackles Soldier Boy Workout</td>\n",
       "      <td>['bodybuilding', 'muscle &amp; sculpting']</td>\n",
       "      <td>['novice', 'beginner']</td>\n",
       "      <td>full gym</td>\n",
       "      <td>jensen ackles soldier boy workout look like so...</td>\n",
       "      <td>23</td>\n",
       "    </tr>\n",
       "  </tbody>\n",
       "</table>\n",
       "</div>"
      ],
      "text/plain": [
       "                                       title  \\\n",
       "1169  Hypertrophy biased powerbuilding phase   \n",
       "2252                       The Regimen p/p/l   \n",
       "710                        DDXYZ 3 DAY SPLIT   \n",
       "299   Ahmad’s 10 week Powerbuilding Program.   \n",
       "1250       Jensen Ackles Soldier Boy Workout   \n",
       "\n",
       "                                        goal                   level  \\\n",
       "1169  ['bodybuilding', 'muscle & sculpting']  ['novice', 'beginner']   \n",
       "2252  ['bodybuilding', 'muscle & sculpting']  ['novice', 'beginner']   \n",
       "710   ['bodybuilding', 'muscle & sculpting']  ['novice', 'beginner']   \n",
       "299   ['bodybuilding', 'muscle & sculpting']  ['novice', 'beginner']   \n",
       "1250  ['bodybuilding', 'muscle & sculpting']  ['novice', 'beginner']   \n",
       "\n",
       "     equipment                                         text_input  cluster_id  \n",
       "1169  full gym  hypertrophy biased powerbuilding phase powerbu...          23  \n",
       "2252  full gym  the regimen ppl to increase musculature bench ...          23  \n",
       "710   full gym  ddxyz 3 day split simple bench press smith mac...          23  \n",
       "299   full gym  ahmads 10 week powerbuilding program the progr...          23  \n",
       "1250  full gym  jensen ackles soldier boy workout look like so...          23  "
      ]
     },
     "metadata": {},
     "output_type": "display_data"
    }
   ],
   "source": [
    "from sklearn.metrics.pairwise import cosine_similarity\n",
    "\n",
    "# Compute cosine similarity between all programs\n",
    "similarity_matrix = cosine_similarity(features_clean)\n",
    "\n",
    "# Function to get top-N similar programs\n",
    "def recommend_programs(program_index, top_n=5, exclude_self=True):\n",
    "    sim_scores = similarity_matrix[program_index]\n",
    "    indices = np.argsort(sim_scores)[::-1]\n",
    "    if exclude_self:\n",
    "        indices = indices[indices != program_index]\n",
    "    top_indices = indices[:top_n]\n",
    "    \n",
    "    return prog_df.iloc[top_indices][['title', 'goal', 'level', 'equipment', 'text_input', 'cluster_id']]\n",
    "\n",
    "# Example usage: Recommend programs similar to program at index 123\n",
    "sample_index = 123\n",
    "print(\"🔍 Based on:\", prog_df.iloc[sample_index]['title'])\n",
    "recommendations = recommend_programs(sample_index, top_n=5)\n",
    "display(recommendations)"
   ]
  },
  {
   "cell_type": "markdown",
   "metadata": {},
   "source": [
    "# Cluster-aware Filtering\n",
    "If you want to recommend only from the same cluster"
   ]
  },
  {
   "cell_type": "code",
   "execution_count": 6,
   "metadata": {
    "execution": {
     "iopub.execute_input": "2025-07-27T13:32:19.232675Z",
     "iopub.status.busy": "2025-07-27T13:32:19.232490Z",
     "iopub.status.idle": "2025-07-27T13:32:19.264220Z",
     "shell.execute_reply": "2025-07-27T13:32:19.263445Z",
     "shell.execute_reply.started": "2025-07-27T13:32:19.232661Z"
    },
    "trusted": true
   },
   "outputs": [
    {
     "name": "stdout",
     "output_type": "stream",
     "text": [
      "🔍 User is interested in:\n"
     ]
    },
    {
     "data": {
      "text/html": [
       "<div>\n",
       "<style scoped>\n",
       "    .dataframe tbody tr th:only-of-type {\n",
       "        vertical-align: middle;\n",
       "    }\n",
       "\n",
       "    .dataframe tbody tr th {\n",
       "        vertical-align: top;\n",
       "    }\n",
       "\n",
       "    .dataframe thead th {\n",
       "        text-align: right;\n",
       "    }\n",
       "</style>\n",
       "<table border=\"1\" class=\"dataframe\">\n",
       "  <thead>\n",
       "    <tr style=\"text-align: right;\">\n",
       "      <th></th>\n",
       "      <th>title</th>\n",
       "      <th>goal</th>\n",
       "      <th>level</th>\n",
       "      <th>equipment</th>\n",
       "      <th>text_input</th>\n",
       "      <th>cluster_id</th>\n",
       "    </tr>\n",
       "  </thead>\n",
       "  <tbody>\n",
       "    <tr>\n",
       "      <th>123</th>\n",
       "      <td>4-Day PowerLifter</td>\n",
       "      <td>['bodybuilding', 'muscle &amp; sculpting']</td>\n",
       "      <td>['novice', 'beginner']</td>\n",
       "      <td>full gym</td>\n",
       "      <td>4day powerlifter get stronger bench press barb...</td>\n",
       "      <td>23</td>\n",
       "    </tr>\n",
       "  </tbody>\n",
       "</table>\n",
       "</div>"
      ],
      "text/plain": [
       "                 title                                    goal  \\\n",
       "123  4-Day PowerLifter  ['bodybuilding', 'muscle & sculpting']   \n",
       "\n",
       "                      level equipment  \\\n",
       "123  ['novice', 'beginner']  full gym   \n",
       "\n",
       "                                            text_input  cluster_id  \n",
       "123  4day powerlifter get stronger bench press barb...          23  "
      ]
     },
     "metadata": {},
     "output_type": "display_data"
    },
    {
     "name": "stdout",
     "output_type": "stream",
     "text": [
      "\n",
      "🎯 Recommended programs from same cluster:\n"
     ]
    },
    {
     "data": {
      "text/html": [
       "<div>\n",
       "<style scoped>\n",
       "    .dataframe tbody tr th:only-of-type {\n",
       "        vertical-align: middle;\n",
       "    }\n",
       "\n",
       "    .dataframe tbody tr th {\n",
       "        vertical-align: top;\n",
       "    }\n",
       "\n",
       "    .dataframe thead th {\n",
       "        text-align: right;\n",
       "    }\n",
       "</style>\n",
       "<table border=\"1\" class=\"dataframe\">\n",
       "  <thead>\n",
       "    <tr style=\"text-align: right;\">\n",
       "      <th></th>\n",
       "      <th>title</th>\n",
       "      <th>goal</th>\n",
       "      <th>level</th>\n",
       "      <th>equipment</th>\n",
       "      <th>text_input</th>\n",
       "      <th>cluster_id</th>\n",
       "    </tr>\n",
       "  </thead>\n",
       "  <tbody>\n",
       "    <tr>\n",
       "      <th>1169</th>\n",
       "      <td>Hypertrophy biased powerbuilding phase</td>\n",
       "      <td>['bodybuilding', 'muscle &amp; sculpting']</td>\n",
       "      <td>['novice', 'beginner']</td>\n",
       "      <td>full gym</td>\n",
       "      <td>hypertrophy biased powerbuilding phase powerbu...</td>\n",
       "      <td>23</td>\n",
       "    </tr>\n",
       "    <tr>\n",
       "      <th>2252</th>\n",
       "      <td>The Regimen p/p/l</td>\n",
       "      <td>['bodybuilding', 'muscle &amp; sculpting']</td>\n",
       "      <td>['novice', 'beginner']</td>\n",
       "      <td>full gym</td>\n",
       "      <td>the regimen ppl to increase musculature bench ...</td>\n",
       "      <td>23</td>\n",
       "    </tr>\n",
       "    <tr>\n",
       "      <th>710</th>\n",
       "      <td>DDXYZ 3 DAY SPLIT</td>\n",
       "      <td>['bodybuilding', 'muscle &amp; sculpting']</td>\n",
       "      <td>['novice', 'beginner']</td>\n",
       "      <td>full gym</td>\n",
       "      <td>ddxyz 3 day split simple bench press smith mac...</td>\n",
       "      <td>23</td>\n",
       "    </tr>\n",
       "    <tr>\n",
       "      <th>299</th>\n",
       "      <td>Ahmad’s 10 week Powerbuilding Program.</td>\n",
       "      <td>['bodybuilding', 'muscle &amp; sculpting']</td>\n",
       "      <td>['novice', 'beginner']</td>\n",
       "      <td>full gym</td>\n",
       "      <td>ahmads 10 week powerbuilding program the progr...</td>\n",
       "      <td>23</td>\n",
       "    </tr>\n",
       "    <tr>\n",
       "      <th>1250</th>\n",
       "      <td>Jensen Ackles Soldier Boy Workout</td>\n",
       "      <td>['bodybuilding', 'muscle &amp; sculpting']</td>\n",
       "      <td>['novice', 'beginner']</td>\n",
       "      <td>full gym</td>\n",
       "      <td>jensen ackles soldier boy workout look like so...</td>\n",
       "      <td>23</td>\n",
       "    </tr>\n",
       "  </tbody>\n",
       "</table>\n",
       "</div>"
      ],
      "text/plain": [
       "                                       title  \\\n",
       "1169  Hypertrophy biased powerbuilding phase   \n",
       "2252                       The Regimen p/p/l   \n",
       "710                        DDXYZ 3 DAY SPLIT   \n",
       "299   Ahmad’s 10 week Powerbuilding Program.   \n",
       "1250       Jensen Ackles Soldier Boy Workout   \n",
       "\n",
       "                                        goal                   level  \\\n",
       "1169  ['bodybuilding', 'muscle & sculpting']  ['novice', 'beginner']   \n",
       "2252  ['bodybuilding', 'muscle & sculpting']  ['novice', 'beginner']   \n",
       "710   ['bodybuilding', 'muscle & sculpting']  ['novice', 'beginner']   \n",
       "299   ['bodybuilding', 'muscle & sculpting']  ['novice', 'beginner']   \n",
       "1250  ['bodybuilding', 'muscle & sculpting']  ['novice', 'beginner']   \n",
       "\n",
       "     equipment                                         text_input  cluster_id  \n",
       "1169  full gym  hypertrophy biased powerbuilding phase powerbu...          23  \n",
       "2252  full gym  the regimen ppl to increase musculature bench ...          23  \n",
       "710   full gym  ddxyz 3 day split simple bench press smith mac...          23  \n",
       "299   full gym  ahmads 10 week powerbuilding program the progr...          23  \n",
       "1250  full gym  jensen ackles soldier boy workout look like so...          23  "
      ]
     },
     "metadata": {},
     "output_type": "display_data"
    }
   ],
   "source": [
    "def recommend_within_cluster(program_index, top_n=5):\n",
    "    user_cluster = prog_df.iloc[program_index]['cluster_id']\n",
    "    cluster_mask = (prog_df['cluster_id'] == user_cluster).values\n",
    "    sim_scores = similarity_matrix[program_index] * cluster_mask  # zero out others\n",
    "    indices = np.argsort(sim_scores)[::-1]\n",
    "    indices = indices[indices != program_index]\n",
    "    top_indices = indices[:top_n]\n",
    "    \n",
    "    return prog_df.iloc[top_indices][['title', 'goal', 'level', 'equipment', 'text_input', 'cluster_id']]\n",
    "\n",
    "# Pick a sample program index (between 0 and 2597)\n",
    "sample_index = 123  # or any valid index\n",
    "\n",
    "# Show base program\n",
    "print(\"🔍 User is interested in:\")\n",
    "display(prog_df.iloc[[sample_index]][['title', 'goal', 'level', 'equipment', 'text_input', 'cluster_id']])\n",
    "\n",
    "# Show recommendations from the same cluster\n",
    "print(\"\\n🎯 Recommended programs from same cluster:\")\n",
    "display(recommend_within_cluster(sample_index, top_n=5))"
   ]
  },
  {
   "cell_type": "markdown",
   "metadata": {},
   "source": [
    "# 👤 Personalization via Embedding Aggregation\n",
    "\n",
    "Here’s the idea:\n",
    "\n",
    "User vector = average of embedding vectors from programs they interacted with (e.g., liked, completed)\n",
    "\n",
    "Recommendation = cosine similarity between user vector and all program vectors\n",
    "\n",
    "(Optional) Use actual interaction logs if you later collect them"
   ]
  },
  {
   "cell_type": "markdown",
   "metadata": {},
   "source": [
    "# 🧠 Code: Simulated User Profile + Personalized Recommendations"
   ]
  },
  {
   "cell_type": "code",
   "execution_count": 7,
   "metadata": {
    "execution": {
     "iopub.execute_input": "2025-07-27T13:32:19.266547Z",
     "iopub.status.busy": "2025-07-27T13:32:19.266361Z",
     "iopub.status.idle": "2025-07-27T13:32:19.311983Z",
     "shell.execute_reply": "2025-07-27T13:32:19.311415Z",
     "shell.execute_reply.started": "2025-07-27T13:32:19.266532Z"
    },
    "trusted": true
   },
   "outputs": [
    {
     "name": "stdout",
     "output_type": "stream",
     "text": [
      "🧍 Simulated user liked:\n"
     ]
    },
    {
     "data": {
      "text/html": [
       "<div>\n",
       "<style scoped>\n",
       "    .dataframe tbody tr th:only-of-type {\n",
       "        vertical-align: middle;\n",
       "    }\n",
       "\n",
       "    .dataframe tbody tr th {\n",
       "        vertical-align: top;\n",
       "    }\n",
       "\n",
       "    .dataframe thead th {\n",
       "        text-align: right;\n",
       "    }\n",
       "</style>\n",
       "<table border=\"1\" class=\"dataframe\">\n",
       "  <thead>\n",
       "    <tr style=\"text-align: right;\">\n",
       "      <th></th>\n",
       "      <th>title</th>\n",
       "      <th>goal</th>\n",
       "      <th>level</th>\n",
       "      <th>equipment</th>\n",
       "    </tr>\n",
       "  </thead>\n",
       "  <tbody>\n",
       "    <tr>\n",
       "      <th>100</th>\n",
       "      <td>4 Day Full-Body - Building a Deity</td>\n",
       "      <td>['powerbuilding', 'powerlifting', 'bodyweight ...</td>\n",
       "      <td>['novice', 'intermediate']</td>\n",
       "      <td>full gym</td>\n",
       "    </tr>\n",
       "    <tr>\n",
       "      <th>123</th>\n",
       "      <td>4-Day PowerLifter</td>\n",
       "      <td>['bodybuilding', 'muscle &amp; sculpting']</td>\n",
       "      <td>['novice', 'beginner']</td>\n",
       "      <td>full gym</td>\n",
       "    </tr>\n",
       "    <tr>\n",
       "      <th>456</th>\n",
       "      <td>Beginner All Body Compound Workout</td>\n",
       "      <td>['bodybuilding', 'muscle &amp; sculpting']</td>\n",
       "      <td>['beginner', 'novice', 'intermediate']</td>\n",
       "      <td>garage gym</td>\n",
       "    </tr>\n",
       "  </tbody>\n",
       "</table>\n",
       "</div>"
      ],
      "text/plain": [
       "                                  title  \\\n",
       "100  4 Day Full-Body - Building a Deity   \n",
       "123                   4-Day PowerLifter   \n",
       "456  Beginner All Body Compound Workout   \n",
       "\n",
       "                                                  goal  \\\n",
       "100  ['powerbuilding', 'powerlifting', 'bodyweight ...   \n",
       "123             ['bodybuilding', 'muscle & sculpting']   \n",
       "456             ['bodybuilding', 'muscle & sculpting']   \n",
       "\n",
       "                                      level   equipment  \n",
       "100              ['novice', 'intermediate']    full gym  \n",
       "123                  ['novice', 'beginner']    full gym  \n",
       "456  ['beginner', 'novice', 'intermediate']  garage gym  "
      ]
     },
     "metadata": {},
     "output_type": "display_data"
    },
    {
     "name": "stdout",
     "output_type": "stream",
     "text": [
      "\n",
      "🎯 Personalized recommendations:\n"
     ]
    },
    {
     "data": {
      "text/html": [
       "<div>\n",
       "<style scoped>\n",
       "    .dataframe tbody tr th:only-of-type {\n",
       "        vertical-align: middle;\n",
       "    }\n",
       "\n",
       "    .dataframe tbody tr th {\n",
       "        vertical-align: top;\n",
       "    }\n",
       "\n",
       "    .dataframe thead th {\n",
       "        text-align: right;\n",
       "    }\n",
       "</style>\n",
       "<table border=\"1\" class=\"dataframe\">\n",
       "  <thead>\n",
       "    <tr style=\"text-align: right;\">\n",
       "      <th></th>\n",
       "      <th>title</th>\n",
       "      <th>goal</th>\n",
       "      <th>level</th>\n",
       "      <th>equipment</th>\n",
       "      <th>text_input</th>\n",
       "    </tr>\n",
       "  </thead>\n",
       "  <tbody>\n",
       "    <tr>\n",
       "      <th>571</th>\n",
       "      <td>Brian Decosta inspired 3 day full body</td>\n",
       "      <td>['muscle &amp; sculpting']</td>\n",
       "      <td>['novice']</td>\n",
       "      <td>garage gym</td>\n",
       "      <td>brian decosta inspired 3 day full body this pr...</td>\n",
       "    </tr>\n",
       "    <tr>\n",
       "      <th>50</th>\n",
       "      <td>3 Day Blast - Full Body</td>\n",
       "      <td>['muscle &amp; sculpting', 'powerbuilding']</td>\n",
       "      <td>['novice', 'intermediate']</td>\n",
       "      <td>garage gym</td>\n",
       "      <td>3 day blast  full body the main focus is to in...</td>\n",
       "    </tr>\n",
       "    <tr>\n",
       "      <th>2144</th>\n",
       "      <td>Stupid Strength, Serious Size</td>\n",
       "      <td>['muscle &amp; sculpting']</td>\n",
       "      <td>['novice']</td>\n",
       "      <td>garage gym</td>\n",
       "      <td>stupid strength serious size do not forget res...</td>\n",
       "    </tr>\n",
       "    <tr>\n",
       "      <th>752</th>\n",
       "      <td>Doomsday</td>\n",
       "      <td>['muscle &amp; sculpting']</td>\n",
       "      <td>['novice']</td>\n",
       "      <td>garage gym</td>\n",
       "      <td>doomsday this is a workout for people mainly t...</td>\n",
       "    </tr>\n",
       "    <tr>\n",
       "      <th>1946</th>\n",
       "      <td>Row to Valhalla</td>\n",
       "      <td>['muscle &amp; sculpting']</td>\n",
       "      <td>['novice']</td>\n",
       "      <td>garage gym</td>\n",
       "      <td>row to valhalla row for weight loss in morning...</td>\n",
       "    </tr>\n",
       "  </tbody>\n",
       "</table>\n",
       "</div>"
      ],
      "text/plain": [
       "                                       title  \\\n",
       "571   Brian Decosta inspired 3 day full body   \n",
       "50                   3 Day Blast - Full Body   \n",
       "2144           Stupid Strength, Serious Size   \n",
       "752                                 Doomsday   \n",
       "1946                         Row to Valhalla   \n",
       "\n",
       "                                         goal                       level  \\\n",
       "571                    ['muscle & sculpting']                  ['novice']   \n",
       "50    ['muscle & sculpting', 'powerbuilding']  ['novice', 'intermediate']   \n",
       "2144                   ['muscle & sculpting']                  ['novice']   \n",
       "752                    ['muscle & sculpting']                  ['novice']   \n",
       "1946                   ['muscle & sculpting']                  ['novice']   \n",
       "\n",
       "       equipment                                         text_input  \n",
       "571   garage gym  brian decosta inspired 3 day full body this pr...  \n",
       "50    garage gym  3 day blast  full body the main focus is to in...  \n",
       "2144  garage gym  stupid strength serious size do not forget res...  \n",
       "752   garage gym  doomsday this is a workout for people mainly t...  \n",
       "1946  garage gym  row to valhalla row for weight loss in morning...  "
      ]
     },
     "metadata": {},
     "output_type": "display_data"
    }
   ],
   "source": [
    "from sklearn.metrics.pairwise import cosine_similarity\n",
    "\n",
    "# Simulate a user who liked these program indexes (you can randomize this)\n",
    "liked_programs = [100, 123, 456]\n",
    "\n",
    "# Step 1: build user profile embedding\n",
    "user_vector = features_clean[liked_programs].mean(axis=0).reshape(1, -1)\n",
    "\n",
    "# Step 2: compute similarity between user and all programs\n",
    "user_sim = cosine_similarity(user_vector, features_clean).flatten()\n",
    "\n",
    "# Step 3: get top-N recommendations (excluding liked)\n",
    "excluded = set(liked_programs)\n",
    "top_indices = [i for i in user_sim.argsort()[::-1] if i not in excluded][:5]\n",
    "\n",
    "# Step 4: display\n",
    "print(\"🧍 Simulated user liked:\")\n",
    "display(prog_df.iloc[liked_programs][['title', 'goal', 'level', 'equipment']])\n",
    "\n",
    "print(\"\\n🎯 Personalized recommendations:\")\n",
    "display(prog_df.iloc[top_indices][['title', 'goal', 'level', 'equipment', 'text_input']])"
   ]
  },
  {
   "cell_type": "markdown",
   "metadata": {},
   "source": [
    "<div style=\"background-color:#166534; color:#fde047; padding:20px; border-radius:10px;\">\n",
    "  <h2 style=\"font-size:22px; font-family:calibri;\"><b>✅ Summary</b></h2>\n",
    "  <ul style=\"font-size:18px; font-family:calibri; line-height:1.8em;\">\n",
    "    <li>✔️ Built a content-based recommender with zero user ratings</li>\n",
    "    <li>✔️ Simulated personalization via clustering & embeddings</li>\n",
    "    <li>✔️ Delivered smart, goal-aware fitness suggestions</li>\n",
    "    <li>✔️ Production-ready design — FAISS, Streamlit, logs await</li>\n",
    "  </ul>\n",
    "</div>"
   ]
  },
  {
   "cell_type": "markdown",
   "metadata": {},
   "source": [
    "<div style=\"background-color:#166534; color:#fde047; padding: 20px; border-radius: 10px;\">\n",
    "  <h2 style=\"font-size:22px; font-family:calibri;\"><b>🙌 Support & Share</b></h2>\n",
    "  <ul style=\"font-size:18px; font-family:calibri; line-height:1.8em;\">\n",
    "    <li>💾 Save this notebook</li>\n",
    "    <li>⭐ Upvote if it helps you</li>\n",
    "    <li>📣 Share with fitness tech friends</li>\n",
    "    <li>✍️ Drop a comment — feedback = gains</li>\n",
    "  </ul>\n",
    "  <p style=\"font-size:18px; font-family:calibri;\">\n",
    "    Let's build stronger, smarter, personalized AI — one rep at a time. 🏋️‍♂️📊🤖\n",
    "  </p>\n",
    "</div>"
   ]
  }
 ],
 "metadata": {
  "kaggle": {
   "accelerator": "nvidiaTeslaT4",
   "dataSources": [
    {
     "datasetId": 7833070,
     "sourceId": 12419457,
     "sourceType": "datasetVersion"
    }
   ],
   "dockerImageVersionId": 31090,
   "isGpuEnabled": true,
   "isInternetEnabled": true,
   "language": "python",
   "sourceType": "notebook"
  },
  "kernelspec": {
   "display_name": "Python 3",
   "language": "python",
   "name": "python3"
  },
  "language_info": {
   "codemirror_mode": {
    "name": "ipython",
    "version": 3
   },
   "file_extension": ".py",
   "mimetype": "text/x-python",
   "name": "python",
   "nbconvert_exporter": "python",
   "pygments_lexer": "ipython3",
   "version": "3.11.13"
  }
 },
 "nbformat": 4,
 "nbformat_minor": 4
}
